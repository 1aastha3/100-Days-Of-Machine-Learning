{
 "cells": [
  {
   "cell_type": "code",
   "execution_count": 26,
   "id": "5bf93023",
   "metadata": {},
   "outputs": [],
   "source": [
    "import numpy as np\n",
    "import pandas as pd\n",
    "import matplotlib.pyplot as plt"
   ]
  },
  {
   "cell_type": "code",
   "execution_count": 27,
   "id": "51da7ee5",
   "metadata": {},
   "outputs": [],
   "source": [
    "df = pd.read_csv('/Users/aasthaprajapati/Desktop/Machine learning csv files/placement (1).csv')"
   ]
  },
  {
   "cell_type": "code",
   "execution_count": 28,
   "id": "7323b505",
   "metadata": {},
   "outputs": [
    {
     "data": {
      "text/html": [
       "<div>\n",
       "<style scoped>\n",
       "    .dataframe tbody tr th:only-of-type {\n",
       "        vertical-align: middle;\n",
       "    }\n",
       "\n",
       "    .dataframe tbody tr th {\n",
       "        vertical-align: top;\n",
       "    }\n",
       "\n",
       "    .dataframe thead th {\n",
       "        text-align: right;\n",
       "    }\n",
       "</style>\n",
       "<table border=\"1\" class=\"dataframe\">\n",
       "  <thead>\n",
       "    <tr style=\"text-align: right;\">\n",
       "      <th></th>\n",
       "      <th>cgpa</th>\n",
       "      <th>placement_exam_marks</th>\n",
       "      <th>placed</th>\n",
       "    </tr>\n",
       "  </thead>\n",
       "  <tbody>\n",
       "    <tr>\n",
       "      <th>0</th>\n",
       "      <td>7.19</td>\n",
       "      <td>26.0</td>\n",
       "      <td>1</td>\n",
       "    </tr>\n",
       "    <tr>\n",
       "      <th>1</th>\n",
       "      <td>7.46</td>\n",
       "      <td>38.0</td>\n",
       "      <td>1</td>\n",
       "    </tr>\n",
       "    <tr>\n",
       "      <th>2</th>\n",
       "      <td>7.54</td>\n",
       "      <td>40.0</td>\n",
       "      <td>1</td>\n",
       "    </tr>\n",
       "    <tr>\n",
       "      <th>3</th>\n",
       "      <td>6.42</td>\n",
       "      <td>8.0</td>\n",
       "      <td>1</td>\n",
       "    </tr>\n",
       "    <tr>\n",
       "      <th>4</th>\n",
       "      <td>7.23</td>\n",
       "      <td>17.0</td>\n",
       "      <td>0</td>\n",
       "    </tr>\n",
       "  </tbody>\n",
       "</table>\n",
       "</div>"
      ],
      "text/plain": [
       "   cgpa  placement_exam_marks  placed\n",
       "0  7.19                  26.0       1\n",
       "1  7.46                  38.0       1\n",
       "2  7.54                  40.0       1\n",
       "3  6.42                   8.0       1\n",
       "4  7.23                  17.0       0"
      ]
     },
     "execution_count": 28,
     "metadata": {},
     "output_type": "execute_result"
    }
   ],
   "source": [
    "df.head()"
   ]
  },
  {
   "cell_type": "code",
   "execution_count": 29,
   "id": "c1ef8e51",
   "metadata": {},
   "outputs": [
    {
     "data": {
      "text/plain": [
       "cgpa   placement_exam_marks  placed\n",
       "False  False                 False     1000\n",
       "dtype: int64"
      ]
     },
     "execution_count": 29,
     "metadata": {},
     "output_type": "execute_result"
    }
   ],
   "source": [
    "df.isnull().value_counts()"
   ]
  },
  {
   "cell_type": "code",
   "execution_count": 30,
   "id": "1d0801ff",
   "metadata": {},
   "outputs": [
    {
     "data": {
      "text/plain": [
       "3000"
      ]
     },
     "execution_count": 30,
     "metadata": {},
     "output_type": "execute_result"
    }
   ],
   "source": [
    "df.size"
   ]
  },
  {
   "cell_type": "code",
   "execution_count": 54,
   "id": "9373ee58",
   "metadata": {},
   "outputs": [],
   "source": [
    "df2 = df.rename(columns={'placement_exam_marks':'package'})\n",
    "df2.drop(columns='placed')\n",
    "df2 = df2.iloc[0:800]"
   ]
  },
  {
   "cell_type": "code",
   "execution_count": 55,
   "id": "1118386f",
   "metadata": {},
   "outputs": [],
   "source": [
    "cgpa_mean = df2['cgpa'].mean()\n",
    "pac_mean = df2['package'].mean()"
   ]
  },
  {
   "cell_type": "code",
   "execution_count": 56,
   "id": "c514341a",
   "metadata": {},
   "outputs": [],
   "source": [
    "## finding slope"
   ]
  },
  {
   "cell_type": "code",
   "execution_count": 57,
   "id": "5a18d689",
   "metadata": {},
   "outputs": [
    {
     "data": {
      "text/plain": [
       "800"
      ]
     },
     "execution_count": 57,
     "metadata": {},
     "output_type": "execute_result"
    }
   ],
   "source": [
    "len(df2['cgpa'])"
   ]
  },
  {
   "cell_type": "code",
   "execution_count": 58,
   "id": "dcb9c301",
   "metadata": {},
   "outputs": [],
   "source": [
    "x = df2['cgpa'].values\n",
    "y = df2['package'].values"
   ]
  },
  {
   "cell_type": "code",
   "execution_count": 59,
   "id": "555afec5",
   "metadata": {},
   "outputs": [
    {
     "data": {
      "text/plain": [
       "array([7.19, 7.46, 7.54, 6.42, 7.23, 7.3 , 6.69, 7.12, 6.45, 7.75, 6.82,\n",
       "       6.38, 6.58, 5.68, 7.91, 7.1 , 6.53, 7.56, 6.93, 7.63, 6.69, 7.43,\n",
       "       6.76, 6.05, 6.44, 6.28, 7.45, 6.53, 7.23, 6.51, 7.46, 7.66, 5.91,\n",
       "       6.23, 8.15, 7.48, 6.85, 8.51, 6.58, 7.25, 6.6 , 6.7 , 7.46, 7.85,\n",
       "       7.88, 6.92, 7.3 , 6.92, 6.29, 8.23, 6.2 , 6.24, 7.53, 6.69, 8.42,\n",
       "       8.12, 6.93, 7.73, 7.34, 7.7 , 7.94, 7.51, 7.61, 6.22, 6.98, 6.27,\n",
       "       6.67, 8.04, 6.58, 7.41, 6.98, 6.13, 7.9 , 6.39, 6.16, 6.77, 8.35,\n",
       "       7.1 , 8.2 , 7.63, 6.87, 7.12, 7.22, 7.38, 5.65, 6.03, 7.19, 6.96,\n",
       "       6.78, 6.56, 7.61, 7.42, 6.48, 7.  , 7.15, 6.89, 7.09, 7.33, 8.12,\n",
       "       7.46, 6.56, 6.48, 5.92, 6.44, 6.82, 6.72, 6.59, 7.32, 5.94, 7.23,\n",
       "       6.96, 6.48, 7.23, 7.24, 6.3 , 7.28, 7.16, 7.11, 6.9 , 7.  , 6.99,\n",
       "       5.91, 5.97, 6.25, 6.2 , 7.46, 7.16, 6.95, 6.76, 6.81, 5.91, 8.19,\n",
       "       7.71, 7.65, 6.33, 6.63, 7.28, 5.69, 7.53, 8.09, 6.85, 7.19, 7.66,\n",
       "       6.32, 6.67, 7.08, 6.75, 6.68, 6.86, 6.81, 8.53, 7.29, 7.78, 6.29,\n",
       "       7.57, 7.84, 6.4 , 7.07, 5.74, 6.7 , 7.36, 6.26, 7.8 , 6.77, 6.29,\n",
       "       7.53, 7.76, 6.65, 6.51, 6.19, 6.17, 6.2 , 7.24, 6.71, 7.31, 7.57,\n",
       "       7.72, 6.22, 7.51, 6.4 , 7.18, 7.3 , 6.87, 6.11, 7.78, 7.3 , 6.97,\n",
       "       6.63, 5.92, 6.63, 7.54, 6.63, 6.67, 6.31, 8.19, 6.71, 7.28, 6.75,\n",
       "       8.29, 7.43, 5.77, 6.67, 6.51, 7.93, 7.01, 6.99, 7.5 , 7.05, 7.25,\n",
       "       6.88, 6.58, 7.36, 6.23, 6.62, 7.42, 7.72, 5.42, 6.92, 6.62, 5.48,\n",
       "       7.75, 6.78, 6.97, 6.15, 7.15, 7.36, 6.79, 7.03, 7.61, 6.68, 7.12,\n",
       "       6.4 , 7.77, 7.25, 8.09, 7.2 , 7.7 , 7.14, 7.41, 6.71, 7.25, 7.22,\n",
       "       5.99, 6.78, 7.68, 6.78, 7.67, 6.25, 6.9 , 7.46, 7.4 , 6.46, 6.24,\n",
       "       6.98, 6.7 , 7.76, 7.37, 5.74, 6.12, 7.16, 5.66, 7.17, 7.19, 8.11,\n",
       "       7.82, 6.94, 7.73, 6.  , 7.38, 6.47, 6.8 , 7.64, 6.23, 7.  , 7.13,\n",
       "       8.03, 6.96, 6.45, 5.23, 8.49, 6.62, 7.68, 6.43, 7.09, 6.99, 7.42,\n",
       "       6.29, 6.24, 7.07, 6.73, 8.38, 7.46, 5.82, 6.97, 6.12, 6.02, 6.99,\n",
       "       7.03, 6.16, 6.75, 7.36, 7.84, 7.95, 7.35, 7.12, 6.67, 6.86, 7.47,\n",
       "       7.2 , 7.46, 5.56, 6.97, 7.02, 6.51, 7.43, 7.96, 7.07, 7.47, 6.74,\n",
       "       7.53, 7.18, 6.82, 6.77, 6.6 , 6.64, 6.65, 7.54, 8.21, 7.4 , 7.3 ,\n",
       "       6.68, 6.12, 7.03, 6.74, 6.56, 6.9 , 7.93, 6.95, 7.45, 7.32, 7.45,\n",
       "       7.41, 6.37, 7.2 , 7.2 , 6.26, 7.31, 7.24, 6.13, 8.12, 7.21, 6.92,\n",
       "       6.51, 6.82, 6.73, 6.42, 5.91, 7.92, 6.74, 7.61, 7.24, 6.37, 7.25,\n",
       "       7.61, 6.87, 7.07, 6.78, 6.41, 7.09, 6.69, 5.7 , 5.9 , 5.95, 5.58,\n",
       "       7.34, 7.31, 6.25, 6.7 , 7.27, 7.37, 7.12, 6.17, 7.55, 7.26, 7.03,\n",
       "       7.33, 7.63, 7.25, 7.28, 5.9 , 6.63, 7.77, 6.76, 6.6 , 7.94, 7.29,\n",
       "       7.28, 7.55, 7.55, 5.74, 6.  , 6.74, 6.08, 6.71, 8.02, 6.6 , 7.14,\n",
       "       8.23, 7.8 , 6.92, 7.36, 6.04, 6.5 , 6.65, 7.3 , 6.37, 7.51, 6.9 ,\n",
       "       6.3 , 6.22, 7.59, 6.29, 7.09, 8.27, 6.91, 7.45, 7.26, 6.17, 7.89,\n",
       "       7.35, 7.22, 7.64, 6.67, 5.77, 7.01, 7.45, 6.31, 6.73, 7.31, 6.67,\n",
       "       8.56, 7.8 , 7.08, 6.92, 6.66, 5.56, 6.6 , 6.5 , 6.32, 6.21, 6.44,\n",
       "       5.94, 6.59, 7.31, 7.13, 6.92, 6.76, 6.58, 7.13, 6.62, 6.91, 7.39,\n",
       "       6.71, 6.82, 6.28, 7.65, 6.45, 6.65, 6.73, 5.86, 6.46, 5.48, 6.19,\n",
       "       6.38, 7.11, 7.38, 6.83, 5.78, 7.32, 6.38, 6.8 , 7.33, 7.56, 7.93,\n",
       "       5.81, 4.92, 7.67, 6.95, 6.75, 7.24, 7.34, 7.77, 8.5 , 6.8 , 6.83,\n",
       "       6.95, 7.52, 6.8 , 6.89, 6.42, 6.07, 6.52, 7.18, 6.97, 7.24, 6.48,\n",
       "       7.84, 6.77, 6.41, 7.83, 6.84, 7.53, 7.08, 6.43, 7.36, 7.75, 6.83,\n",
       "       6.37, 7.53, 6.6 , 7.39, 5.72, 6.71, 6.13, 6.85, 6.33, 7.12, 7.72,\n",
       "       6.9 , 7.19, 6.28, 7.  , 6.9 , 7.19, 6.05, 6.49, 6.87, 7.13, 7.58,\n",
       "       6.79, 6.37, 6.11, 7.06, 7.48, 7.11, 6.35, 6.75, 7.33, 7.48, 7.37,\n",
       "       6.62, 6.55, 6.4 , 7.46, 6.84, 6.46, 6.7 , 6.47, 7.28, 6.61, 7.11,\n",
       "       7.07, 6.06, 6.81, 7.17, 6.61, 6.03, 6.18, 8.13, 7.08, 7.04, 6.47,\n",
       "       7.66, 7.23, 6.54, 7.55, 6.12, 6.85, 7.52, 7.13, 7.9 , 6.57, 7.05,\n",
       "       7.1 , 6.57, 7.85, 6.58, 7.58, 6.38, 6.6 , 6.68, 7.89, 7.09, 6.55,\n",
       "       6.95, 6.13, 8.48, 7.85, 7.59, 7.02, 6.24, 6.89, 7.16, 6.55, 6.89,\n",
       "       6.64, 6.79, 7.76, 7.33, 6.55, 7.32, 7.2 , 6.14, 6.66, 8.05, 6.51,\n",
       "       7.09, 7.08, 6.7 , 6.81, 7.07, 7.85, 7.4 , 7.35, 7.35, 7.6 , 7.63,\n",
       "       6.31, 7.12, 8.15, 6.56, 7.26, 6.37, 6.63, 7.69, 6.69, 6.39, 7.25,\n",
       "       7.46, 6.42, 6.36, 7.49, 7.89, 7.59, 7.65, 6.75, 7.38, 6.69, 7.15,\n",
       "       7.6 , 6.19, 6.57, 7.6 , 6.93, 7.03, 7.36, 7.39, 7.6 , 7.57, 6.68,\n",
       "       5.97, 5.72, 7.38, 7.05, 7.23, 6.16, 7.64, 7.17, 7.24, 6.94, 7.51,\n",
       "       7.45, 7.75, 6.87, 6.73, 6.1 , 6.73, 6.75, 6.65, 6.7 , 7.35, 6.78,\n",
       "       6.34, 6.5 , 8.02, 6.05, 7.15, 6.81, 6.59, 8.02, 7.01, 7.32, 6.95,\n",
       "       6.64, 7.12, 6.75, 6.94, 7.23, 7.27, 6.64, 6.82, 6.74, 6.24, 7.04,\n",
       "       6.91, 6.55, 7.11, 6.86, 7.91, 6.97, 7.56, 6.97, 6.35, 7.8 , 7.06,\n",
       "       7.41, 7.06, 6.49, 7.12, 7.17, 6.87, 6.98, 6.86, 7.35, 7.95, 6.34,\n",
       "       7.93, 7.  , 6.63, 6.79, 6.14, 6.74, 7.26, 7.07, 6.77, 7.23, 6.86,\n",
       "       6.52, 7.04, 6.34, 6.21, 7.58, 6.79, 7.62, 7.49, 6.82, 6.72, 6.26,\n",
       "       7.02, 7.31, 6.43, 6.69, 7.37, 6.87, 7.91, 6.94, 7.41, 6.84, 6.55,\n",
       "       6.55, 7.13, 8.02, 6.79, 7.16, 6.47, 6.55, 7.17, 7.33, 6.55, 6.68,\n",
       "       7.33, 7.31, 6.63, 8.06, 6.93, 6.76, 7.08, 7.67, 6.98, 6.39, 5.62,\n",
       "       7.17, 7.65, 6.23, 6.19, 6.07, 7.5 , 7.02, 6.54, 6.46, 7.48, 7.65,\n",
       "       7.92, 7.23, 6.24, 7.  , 6.02, 8.14, 5.86, 6.89])"
      ]
     },
     "execution_count": 59,
     "metadata": {},
     "output_type": "execute_result"
    }
   ],
   "source": [
    "x"
   ]
  },
  {
   "cell_type": "code",
   "execution_count": 60,
   "id": "a71f3500",
   "metadata": {},
   "outputs": [
    {
     "data": {
      "text/plain": [
       "array([26., 38., 40.,  8., 17., 23., 11., 39., 38., 94., 16.,  7., 16.,\n",
       "       26., 43., 21., 19., 22., 27., 29., 47., 33., 54., 11., 11., 58.,\n",
       "        8., 46., 19., 15., 16., 44., 11., 27.,  9., 12., 16.,  9., 20.,\n",
       "       17., 86., 38., 71., 63., 55., 10., 15., 46., 42., 28., 18., 28.,\n",
       "       27., 33., 36., 15., 15., 24., 43., 32., 31., 86., 22., 26., 52.,\n",
       "       28., 31., 18., 30., 44., 17., 20., 19., 12.,  3., 56., 12., 28.,\n",
       "       12., 19., 46., 44., 12., 20., 35., 28., 22., 19., 39., 17., 15.,\n",
       "        6., 63., 30., 21., 35., 28., 52., 76., 23., 46., 26., 22., 18.,\n",
       "       47., 12., 22.,  9., 10., 21., 31., 33., 15., 10., 77., 37., 21.,\n",
       "        0., 54., 39., 46., 27., 51., 52., 30., 55., 37., 23., 25., 39.,\n",
       "       53., 19., 18., 64., 93., 47., 15., 53.,  8.,  5., 22., 18., 41.,\n",
       "       33., 17., 28., 22., 11., 49., 58., 22., 16., 56., 10., 54., 12.,\n",
       "       34., 81., 50., 22., 10., 52., 90., 42., 34.,  7., 59., 48., 37.,\n",
       "       16., 37., 38., 43., 48., 21., 26., 30., 40., 39., 45., 29., 42.,\n",
       "       76., 18., 33., 31., 63., 10., 55.,  9., 23.,  8., 38., 14., 33.,\n",
       "       44., 34., 27., 44., 25., 22., 15., 48., 52.,  5., 47., 25., 16.,\n",
       "       12., 35., 19., 14., 57., 19., 60., 22., 36., 16., 52.,  3., 16.,\n",
       "       24., 78., 11., 19., 13., 21., 19., 15., 13., 14., 35., 34., 41.,\n",
       "       36., 52., 36., 52., 78., 16., 38., 18., 44., 55., 44., 62., 26.,\n",
       "       49., 44., 52., 13., 45., 54., 76., 64., 10., 48., 76.,  6., 10.,\n",
       "       57., 11., 10., 50., 28., 57., 50., 65., 21., 16., 16., 21., 56.,\n",
       "        9.,  4., 39., 46., 15., 17., 40., 55., 22., 44., 87., 62., 57.,\n",
       "       58., 24., 21.,  9., 87., 14., 41., 11., 17., 64., 19., 32., 48.,\n",
       "       15., 52.,  5., 34., 56., 33., 32., 19., 28., 47., 31., 50., 87.,\n",
       "       55., 18., 14., 37., 38., 19., 60., 13., 51., 47., 38., 38., 90.,\n",
       "       13., 13., 56., 28., 35., 16., 22., 39., 20., 19., 17.,  9., 68.,\n",
       "       46., 18., 51.,  8., 23., 70., 26., 13., 33., 34., 17., 16., 70.,\n",
       "       10.,  4., 28., 23., 18., 50., 42., 52., 40., 33., 37., 21., 13.,\n",
       "        9., 25., 42., 30., 32., 36., 79., 29.,  8., 41., 41., 31., 60.,\n",
       "       47., 25., 65., 31., 53., 61.,  4., 33., 21., 43.,  7., 23., 16.,\n",
       "       16., 66., 35., 18., 18., 11., 10., 63., 48., 43., 33., 22., 34.,\n",
       "       83., 35., 32., 17., 20., 24., 24., 37., 66., 45., 28., 36., 46.,\n",
       "       55., 19., 29., 46., 49., 46., 19., 26., 30., 15., 21., 39., 46.,\n",
       "       55., 19., 21., 26., 11.,  5., 37., 19., 22.,  7., 10., 22., 15.,\n",
       "       48., 77., 14., 10., 23., 17., 31., 37., 31., 31., 42., 24., 53.,\n",
       "       43., 12., 20., 47., 79.,  4., 12.,  9., 49., 37., 49., 16.,  7.,\n",
       "       70., 46., 28., 18., 38., 25., 25., 10., 34., 18., 36., 33., 37.,\n",
       "       32.,  8., 25., 18., 44., 65., 13., 43., 50., 32., 49., 21., 18.,\n",
       "       51., 64., 35., 37., 14., 31., 24., 31., 50., 10., 25., 18.,  8.,\n",
       "       75., 14., 48., 34., 50.,  9., 46., 15., 44., 28., 38., 22.,  8.,\n",
       "       20., 37., 63., 19., 21., 17., 34., 37., 38., 34., 18., 81., 20.,\n",
       "       15., 45., 62., 48.,  9., 27., 14., 63., 18., 22., 16., 14., 17.,\n",
       "       18., 39., 30., 79., 38., 66., 24., 17.,  9., 32., 15., 25., 14.,\n",
       "       58., 67., 58., 23., 14., 34., 54., 25., 36.,  4., 30., 18., 66.,\n",
       "       37., 54., 33., 16.,  8., 24., 47., 13., 63., 25., 27., 68., 60.,\n",
       "       49., 15., 14., 25., 16., 22., 35., 27., 62., 64.,  7., 25., 32.,\n",
       "       27., 55., 38., 17., 32., 54., 40., 42., 24., 49., 16.,  4., 61.,\n",
       "       19., 60., 55., 41., 12., 33., 22., 22., 43., 18., 28., 19., 14.,\n",
       "       80., 30., 19., 30.,  9., 11., 96., 16., 13., 39., 39., 10., 43.,\n",
       "       74., 74., 43., 61., 22., 39., 28., 29., 36., 45.,  4., 24., 65.,\n",
       "       27., 39., 43., 48., 76., 34., 72., 23.,  9., 37., 26., 47., 15.,\n",
       "       31., 34., 10., 27., 54., 47.,  8., 17., 31., 13., 20., 31., 20.,\n",
       "       21., 24., 34., 35., 15., 10., 17., 69., 67., 87., 62., 23., 36.,\n",
       "       67., 26., 14., 43., 42., 51., 11., 20., 49., 16., 20., 16.,  2.,\n",
       "       39., 41., 45., 35., 13., 11., 50., 42.,  6., 30.,  8., 24., 19.,\n",
       "       17., 19., 21., 36., 26., 43., 11., 29., 10., 21., 10., 25., 30.,\n",
       "       23., 58., 90.,  5., 55., 10., 50., 39., 24., 12., 17., 39., 74.,\n",
       "       66., 29., 15., 58., 13., 25., 18.,  9., 61.,  8., 20., 35., 42.,\n",
       "       17., 26., 30., 15., 29., 22., 48.,  6., 14., 59., 70., 28., 34.,\n",
       "       31., 63., 18., 67., 86., 26., 79., 69., 24., 30., 23., 34., 32.,\n",
       "       31., 49., 41., 24., 19., 29., 10.,  9., 19., 74., 47., 12., 32.,\n",
       "        9., 17.,  9., 60., 20., 56., 53.])"
      ]
     },
     "execution_count": 60,
     "metadata": {},
     "output_type": "execute_result"
    }
   ],
   "source": [
    "y"
   ]
  },
  {
   "cell_type": "code",
   "execution_count": 61,
   "id": "af32b473",
   "metadata": {},
   "outputs": [],
   "source": [
    "numerator = 0\n",
    "denominator = 0\n",
    "for i in range(len(df2['cgpa'])):\n",
    "    numerator = numerator + (x[i] - cgpa_mean)*(y[i]-pac_mean)\n",
    "    denominator = denominator + (x[i] - cgpa_mean)**2\n",
    "    "
   ]
  },
  {
   "cell_type": "code",
   "execution_count": 62,
   "id": "1f7904de",
   "metadata": {},
   "outputs": [],
   "source": [
    "slope_m = numerator/denominator\n",
    "intercept_c = pac_mean - (slope_m*cgpa_mean)"
   ]
  },
  {
   "cell_type": "code",
   "execution_count": 63,
   "id": "e06f2eaa",
   "metadata": {},
   "outputs": [
    {
     "data": {
      "text/plain": [
       "-0.6483140300419499"
      ]
     },
     "execution_count": 63,
     "metadata": {},
     "output_type": "execute_result"
    }
   ],
   "source": [
    "slope_m"
   ]
  },
  {
   "cell_type": "code",
   "execution_count": 64,
   "id": "cd02b78a",
   "metadata": {},
   "outputs": [
    {
     "data": {
      "text/plain": [
       "37.2695813762572"
      ]
     },
     "execution_count": 64,
     "metadata": {},
     "output_type": "execute_result"
    }
   ],
   "source": [
    "intercept_c"
   ]
  },
  {
   "cell_type": "code",
   "execution_count": 65,
   "id": "186f09e8",
   "metadata": {},
   "outputs": [
    {
     "data": {
      "text/plain": [
       "[<matplotlib.lines.Line2D at 0x1343cde50>]"
      ]
     },
     "execution_count": 65,
     "metadata": {},
     "output_type": "execute_result"
    },
    {
     "data": {
      "image/png": "[encoded data removed]",
      "text/plain": [
       "<Figure size 432x288 with 1 Axes>"
      ]
     },
     "metadata": {
      "needs_background": "light"
     },
     "output_type": "display_data"
    }
   ],
   "source": [
    "%matplotlib inline\n",
    "plt.scatter(x,y)\n",
    "plt.xlabel('CGPA', fontsize=20)\n",
    "plt.ylabel('Package in LPA', fontsize=20)\n",
    "plt.plot(x, slope_m*x + intercept_c, color=\"red\")"
   ]
  },
  {
   "cell_type": "code",
   "execution_count": 73,
   "id": "e88cb909",
   "metadata": {},
   "outputs": [
    {
     "data": {
      "text/html": [
       "<div>\n",
       "<style scoped>\n",
       "    .dataframe tbody tr th:only-of-type {\n",
       "        vertical-align: middle;\n",
       "    }\n",
       "\n",
       "    .dataframe tbody tr th {\n",
       "        vertical-align: top;\n",
       "    }\n",
       "\n",
       "    .dataframe thead th {\n",
       "        text-align: right;\n",
       "    }\n",
       "</style>\n",
       "<table border=\"1\" class=\"dataframe\">\n",
       "  <thead>\n",
       "    <tr style=\"text-align: right;\">\n",
       "      <th></th>\n",
       "      <th>cgpa</th>\n",
       "      <th>placement_exam_marks</th>\n",
       "      <th>placed</th>\n",
       "    </tr>\n",
       "  </thead>\n",
       "  <tbody>\n",
       "    <tr>\n",
       "      <th>0</th>\n",
       "      <td>7.19</td>\n",
       "      <td>26.0</td>\n",
       "      <td>1</td>\n",
       "    </tr>\n",
       "    <tr>\n",
       "      <th>1</th>\n",
       "      <td>7.46</td>\n",
       "      <td>38.0</td>\n",
       "      <td>1</td>\n",
       "    </tr>\n",
       "    <tr>\n",
       "      <th>2</th>\n",
       "      <td>7.54</td>\n",
       "      <td>40.0</td>\n",
       "      <td>1</td>\n",
       "    </tr>\n",
       "    <tr>\n",
       "      <th>3</th>\n",
       "      <td>6.42</td>\n",
       "      <td>8.0</td>\n",
       "      <td>1</td>\n",
       "    </tr>\n",
       "    <tr>\n",
       "      <th>4</th>\n",
       "      <td>7.23</td>\n",
       "      <td>17.0</td>\n",
       "      <td>0</td>\n",
       "    </tr>\n",
       "    <tr>\n",
       "      <th>...</th>\n",
       "      <td>...</td>\n",
       "      <td>...</td>\n",
       "      <td>...</td>\n",
       "    </tr>\n",
       "    <tr>\n",
       "      <th>995</th>\n",
       "      <td>8.87</td>\n",
       "      <td>44.0</td>\n",
       "      <td>1</td>\n",
       "    </tr>\n",
       "    <tr>\n",
       "      <th>996</th>\n",
       "      <td>9.12</td>\n",
       "      <td>65.0</td>\n",
       "      <td>1</td>\n",
       "    </tr>\n",
       "    <tr>\n",
       "      <th>997</th>\n",
       "      <td>4.89</td>\n",
       "      <td>34.0</td>\n",
       "      <td>0</td>\n",
       "    </tr>\n",
       "    <tr>\n",
       "      <th>998</th>\n",
       "      <td>8.62</td>\n",
       "      <td>46.0</td>\n",
       "      <td>1</td>\n",
       "    </tr>\n",
       "    <tr>\n",
       "      <th>999</th>\n",
       "      <td>4.90</td>\n",
       "      <td>10.0</td>\n",
       "      <td>1</td>\n",
       "    </tr>\n",
       "  </tbody>\n",
       "</table>\n",
       "<p>1000 rows × 3 columns</p>\n",
       "</div>"
      ],
      "text/plain": [
       "     cgpa  placement_exam_marks  placed\n",
       "0    7.19                  26.0       1\n",
       "1    7.46                  38.0       1\n",
       "2    7.54                  40.0       1\n",
       "3    6.42                   8.0       1\n",
       "4    7.23                  17.0       0\n",
       "..    ...                   ...     ...\n",
       "995  8.87                  44.0       1\n",
       "996  9.12                  65.0       1\n",
       "997  4.89                  34.0       0\n",
       "998  8.62                  46.0       1\n",
       "999  4.90                  10.0       1\n",
       "\n",
       "[1000 rows x 3 columns]"
      ]
     },
     "execution_count": 73,
     "metadata": {},
     "output_type": "execute_result"
    }
   ],
   "source": [
    "df"
   ]
  },
  {
   "cell_type": "code",
   "execution_count": 79,
   "id": "42198907",
   "metadata": {},
   "outputs": [],
   "source": [
    "df1 = df.rename(columns={'placement_exam_marks':'package'})"
   ]
  },
  {
   "cell_type": "code",
   "execution_count": 80,
   "id": "3e2493c0",
   "metadata": {},
   "outputs": [],
   "source": [
    "df3 = df1.drop(columns='placed')"
   ]
  },
  {
   "cell_type": "code",
   "execution_count": 81,
   "id": "ec80f06c",
   "metadata": {},
   "outputs": [
    {
     "data": {
      "text/html": [
       "<div>\n",
       "<style scoped>\n",
       "    .dataframe tbody tr th:only-of-type {\n",
       "        vertical-align: middle;\n",
       "    }\n",
       "\n",
       "    .dataframe tbody tr th {\n",
       "        vertical-align: top;\n",
       "    }\n",
       "\n",
       "    .dataframe thead th {\n",
       "        text-align: right;\n",
       "    }\n",
       "</style>\n",
       "<table border=\"1\" class=\"dataframe\">\n",
       "  <thead>\n",
       "    <tr style=\"text-align: right;\">\n",
       "      <th></th>\n",
       "      <th>cgpa</th>\n",
       "      <th>package</th>\n",
       "    </tr>\n",
       "  </thead>\n",
       "  <tbody>\n",
       "    <tr>\n",
       "      <th>0</th>\n",
       "      <td>7.19</td>\n",
       "      <td>26.0</td>\n",
       "    </tr>\n",
       "    <tr>\n",
       "      <th>1</th>\n",
       "      <td>7.46</td>\n",
       "      <td>38.0</td>\n",
       "    </tr>\n",
       "    <tr>\n",
       "      <th>2</th>\n",
       "      <td>7.54</td>\n",
       "      <td>40.0</td>\n",
       "    </tr>\n",
       "    <tr>\n",
       "      <th>3</th>\n",
       "      <td>6.42</td>\n",
       "      <td>8.0</td>\n",
       "    </tr>\n",
       "    <tr>\n",
       "      <th>4</th>\n",
       "      <td>7.23</td>\n",
       "      <td>17.0</td>\n",
       "    </tr>\n",
       "    <tr>\n",
       "      <th>...</th>\n",
       "      <td>...</td>\n",
       "      <td>...</td>\n",
       "    </tr>\n",
       "    <tr>\n",
       "      <th>995</th>\n",
       "      <td>8.87</td>\n",
       "      <td>44.0</td>\n",
       "    </tr>\n",
       "    <tr>\n",
       "      <th>996</th>\n",
       "      <td>9.12</td>\n",
       "      <td>65.0</td>\n",
       "    </tr>\n",
       "    <tr>\n",
       "      <th>997</th>\n",
       "      <td>4.89</td>\n",
       "      <td>34.0</td>\n",
       "    </tr>\n",
       "    <tr>\n",
       "      <th>998</th>\n",
       "      <td>8.62</td>\n",
       "      <td>46.0</td>\n",
       "    </tr>\n",
       "    <tr>\n",
       "      <th>999</th>\n",
       "      <td>4.90</td>\n",
       "      <td>10.0</td>\n",
       "    </tr>\n",
       "  </tbody>\n",
       "</table>\n",
       "<p>1000 rows × 2 columns</p>\n",
       "</div>"
      ],
      "text/plain": [
       "     cgpa  package\n",
       "0    7.19     26.0\n",
       "1    7.46     38.0\n",
       "2    7.54     40.0\n",
       "3    6.42      8.0\n",
       "4    7.23     17.0\n",
       "..    ...      ...\n",
       "995  8.87     44.0\n",
       "996  9.12     65.0\n",
       "997  4.89     34.0\n",
       "998  8.62     46.0\n",
       "999  4.90     10.0\n",
       "\n",
       "[1000 rows x 2 columns]"
      ]
     },
     "execution_count": 81,
     "metadata": {},
     "output_type": "execute_result"
    }
   ],
   "source": [
    "df3"
   ]
  },
  {
   "cell_type": "code",
   "execution_count": 83,
   "id": "d968a172",
   "metadata": {},
   "outputs": [],
   "source": [
    "df3 = df3.iloc[800:]"
   ]
  },
  {
   "cell_type": "code",
   "execution_count": 85,
   "id": "3c9c5349",
   "metadata": {},
   "outputs": [
    {
     "data": {
      "text/html": [
       "<div>\n",
       "<style scoped>\n",
       "    .dataframe tbody tr th:only-of-type {\n",
       "        vertical-align: middle;\n",
       "    }\n",
       "\n",
       "    .dataframe tbody tr th {\n",
       "        vertical-align: top;\n",
       "    }\n",
       "\n",
       "    .dataframe thead th {\n",
       "        text-align: right;\n",
       "    }\n",
       "</style>\n",
       "<table border=\"1\" class=\"dataframe\">\n",
       "  <thead>\n",
       "    <tr style=\"text-align: right;\">\n",
       "      <th></th>\n",
       "      <th>cgpa</th>\n",
       "      <th>package</th>\n",
       "    </tr>\n",
       "  </thead>\n",
       "  <tbody>\n",
       "    <tr>\n",
       "      <th>800</th>\n",
       "      <td>6.50</td>\n",
       "      <td>28.0</td>\n",
       "    </tr>\n",
       "    <tr>\n",
       "      <th>801</th>\n",
       "      <td>6.31</td>\n",
       "      <td>14.0</td>\n",
       "    </tr>\n",
       "    <tr>\n",
       "      <th>802</th>\n",
       "      <td>6.10</td>\n",
       "      <td>16.0</td>\n",
       "    </tr>\n",
       "    <tr>\n",
       "      <th>803</th>\n",
       "      <td>7.19</td>\n",
       "      <td>20.0</td>\n",
       "    </tr>\n",
       "    <tr>\n",
       "      <th>804</th>\n",
       "      <td>6.49</td>\n",
       "      <td>81.0</td>\n",
       "    </tr>\n",
       "    <tr>\n",
       "      <th>...</th>\n",
       "      <td>...</td>\n",
       "      <td>...</td>\n",
       "    </tr>\n",
       "    <tr>\n",
       "      <th>995</th>\n",
       "      <td>8.87</td>\n",
       "      <td>44.0</td>\n",
       "    </tr>\n",
       "    <tr>\n",
       "      <th>996</th>\n",
       "      <td>9.12</td>\n",
       "      <td>65.0</td>\n",
       "    </tr>\n",
       "    <tr>\n",
       "      <th>997</th>\n",
       "      <td>4.89</td>\n",
       "      <td>34.0</td>\n",
       "    </tr>\n",
       "    <tr>\n",
       "      <th>998</th>\n",
       "      <td>8.62</td>\n",
       "      <td>46.0</td>\n",
       "    </tr>\n",
       "    <tr>\n",
       "      <th>999</th>\n",
       "      <td>4.90</td>\n",
       "      <td>10.0</td>\n",
       "    </tr>\n",
       "  </tbody>\n",
       "</table>\n",
       "<p>200 rows × 2 columns</p>\n",
       "</div>"
      ],
      "text/plain": [
       "     cgpa  package\n",
       "800  6.50     28.0\n",
       "801  6.31     14.0\n",
       "802  6.10     16.0\n",
       "803  7.19     20.0\n",
       "804  6.49     81.0\n",
       "..    ...      ...\n",
       "995  8.87     44.0\n",
       "996  9.12     65.0\n",
       "997  4.89     34.0\n",
       "998  8.62     46.0\n",
       "999  4.90     10.0\n",
       "\n",
       "[200 rows x 2 columns]"
      ]
     },
     "execution_count": 85,
     "metadata": {},
     "output_type": "execute_result"
    }
   ],
   "source": [
    "df3"
   ]
  },
  {
   "cell_type": "code",
   "execution_count": 86,
   "id": "1262e487",
   "metadata": {},
   "outputs": [],
   "source": [
    "### root mean squared error\n",
    "\n",
    "rms_error_sum = 0\n",
    "for i in range(len(df3)):\n",
    "    y_pred = intercept_c + slope_m*x[i]\n",
    "    rms_error_sum = rms_error_sum + (y[i]-y_pred)**2"
   ]
  },
  {
   "cell_type": "code",
   "execution_count": 87,
   "id": "dc3623cd",
   "metadata": {},
   "outputs": [
    {
     "data": {
      "text/plain": [
       "200"
      ]
     },
     "execution_count": 87,
     "metadata": {},
     "output_type": "execute_result"
    }
   ],
   "source": [
    "len(df3)"
   ]
  },
  {
   "cell_type": "code",
   "execution_count": 89,
   "id": "b043cc75",
   "metadata": {},
   "outputs": [],
   "source": [
    "accuracy = 100 - np.sqrt(rms_error_sum/len(df3))"
   ]
  },
  {
   "cell_type": "code",
   "execution_count": 92,
   "id": "4e8ae858",
   "metadata": {},
   "outputs": [
    {
     "data": {
      "text/plain": [
       "81.05633676640625"
      ]
     },
     "execution_count": 92,
     "metadata": {},
     "output_type": "execute_result"
    }
   ],
   "source": [
    "accuracy"
   ]
  },
  {
   "cell_type": "code",
   "execution_count": null,
   "id": "ae871ae1",
   "metadata": {},
   "outputs": [],
   "source": []
  }
 ],
 "metadata": {
  "kernelspec": {
   "display_name": "Python 3.9.9 64-bit",
   "language": "python",
   "name": "python399jvsc74a57bd0b0fa6594d8f4cbf19f97940f81e996739fb7646882a419484c72d19e05852a7e"
  },
  "language_info": {
   "codemirror_mode": {
    "name": "ipython",
    "version": 3
   },
   "file_extension": ".py",
   "mimetype": "text/x-python",
   "name": "python",
   "nbconvert_exporter": "python",
   "pygments_lexer": "ipython3",
   "version": "3.9.9"
  }
 },
 "nbformat": 4,
 "nbformat_minor": 5
}
