{
 "cells": [
  {
   "cell_type": "code",
   "execution_count": 74,
   "id": "30810bd9",
   "metadata": {},
   "outputs": [],
   "source": [
    "import numpy as np\n",
    "import pandas as pd\n",
    "\n",
    "df = pd.read_csv('/Users/aasthaprajapati/Desktop/MOCK_DATA (1).csv')"
   ]
  },
  {
   "cell_type": "markdown",
   "id": "6d2b65f0",
   "metadata": {},
   "source": [
    "### Data Preprocessing"
   ]
  },
  {
   "cell_type": "code",
   "execution_count": 75,
   "id": "fcf753e7",
   "metadata": {},
   "outputs": [
    {
     "data": {
      "text/html": [
       "<div>\n",
       "<style scoped>\n",
       "    .dataframe tbody tr th:only-of-type {\n",
       "        vertical-align: middle;\n",
       "    }\n",
       "\n",
       "    .dataframe tbody tr th {\n",
       "        vertical-align: top;\n",
       "    }\n",
       "\n",
       "    .dataframe thead th {\n",
       "        text-align: right;\n",
       "    }\n",
       "</style>\n",
       "<table border=\"1\" class=\"dataframe\">\n",
       "  <thead>\n",
       "    <tr style=\"text-align: right;\">\n",
       "      <th></th>\n",
       "      <th>first_name</th>\n",
       "      <th>math</th>\n",
       "      <th>science</th>\n",
       "      <th>english</th>\n",
       "      <th>total</th>\n",
       "      <th>pass_?</th>\n",
       "    </tr>\n",
       "  </thead>\n",
       "  <tbody>\n",
       "    <tr>\n",
       "      <th>0</th>\n",
       "      <td>Fransisco</td>\n",
       "      <td>70</td>\n",
       "      <td>82</td>\n",
       "      <td>68.0</td>\n",
       "      <td>220.0</td>\n",
       "      <td>true</td>\n",
       "    </tr>\n",
       "    <tr>\n",
       "      <th>1</th>\n",
       "      <td>Frederique</td>\n",
       "      <td>66</td>\n",
       "      <td>90</td>\n",
       "      <td>26.7</td>\n",
       "      <td>182.7</td>\n",
       "      <td>true</td>\n",
       "    </tr>\n",
       "    <tr>\n",
       "      <th>2</th>\n",
       "      <td>Obediah</td>\n",
       "      <td>1</td>\n",
       "      <td>35</td>\n",
       "      <td>10.9</td>\n",
       "      <td>46.9</td>\n",
       "      <td>false</td>\n",
       "    </tr>\n",
       "    <tr>\n",
       "      <th>3</th>\n",
       "      <td>Mei</td>\n",
       "      <td>72</td>\n",
       "      <td>3</td>\n",
       "      <td>9.8</td>\n",
       "      <td>84.8</td>\n",
       "      <td>false</td>\n",
       "    </tr>\n",
       "    <tr>\n",
       "      <th>4</th>\n",
       "      <td>Loretta</td>\n",
       "      <td>91</td>\n",
       "      <td>75</td>\n",
       "      <td>36.6</td>\n",
       "      <td>202.6</td>\n",
       "      <td>true</td>\n",
       "    </tr>\n",
       "  </tbody>\n",
       "</table>\n",
       "</div>"
      ],
      "text/plain": [
       "   first_name  math  science  english  total pass_?\n",
       "0   Fransisco    70       82     68.0  220.0   true\n",
       "1  Frederique    66       90     26.7  182.7   true\n",
       "2     Obediah     1       35     10.9   46.9  false\n",
       "3         Mei    72        3      9.8   84.8  false\n",
       "4     Loretta    91       75     36.6  202.6   true"
      ]
     },
     "execution_count": 75,
     "metadata": {},
     "output_type": "execute_result"
    }
   ],
   "source": [
    "df.head()"
   ]
  },
  {
   "cell_type": "code",
   "execution_count": 76,
   "id": "20ed9542",
   "metadata": {},
   "outputs": [],
   "source": [
    "df['total'].fillna(value=df['total'].mean(), inplace = True)"
   ]
  },
  {
   "cell_type": "code",
   "execution_count": 77,
   "id": "fc5c6641",
   "metadata": {},
   "outputs": [],
   "source": [
    "x = df2.iloc[:,0:-2]\n",
    "y = df2.iloc[:,-2:]"
   ]
  },
  {
   "cell_type": "code",
   "execution_count": 78,
   "id": "a5daae5c",
   "metadata": {},
   "outputs": [
    {
     "data": {
      "text/html": [
       "<div>\n",
       "<style scoped>\n",
       "    .dataframe tbody tr th:only-of-type {\n",
       "        vertical-align: middle;\n",
       "    }\n",
       "\n",
       "    .dataframe tbody tr th {\n",
       "        vertical-align: top;\n",
       "    }\n",
       "\n",
       "    .dataframe thead th {\n",
       "        text-align: right;\n",
       "    }\n",
       "</style>\n",
       "<table border=\"1\" class=\"dataframe\">\n",
       "  <thead>\n",
       "    <tr style=\"text-align: right;\">\n",
       "      <th></th>\n",
       "      <th>first_name</th>\n",
       "      <th>math</th>\n",
       "      <th>science</th>\n",
       "      <th>english</th>\n",
       "    </tr>\n",
       "  </thead>\n",
       "  <tbody>\n",
       "    <tr>\n",
       "      <th>0</th>\n",
       "      <td>Fransisco</td>\n",
       "      <td>70</td>\n",
       "      <td>82</td>\n",
       "      <td>68.0</td>\n",
       "    </tr>\n",
       "    <tr>\n",
       "      <th>1</th>\n",
       "      <td>Frederique</td>\n",
       "      <td>66</td>\n",
       "      <td>90</td>\n",
       "      <td>26.7</td>\n",
       "    </tr>\n",
       "    <tr>\n",
       "      <th>2</th>\n",
       "      <td>Obediah</td>\n",
       "      <td>1</td>\n",
       "      <td>35</td>\n",
       "      <td>10.9</td>\n",
       "    </tr>\n",
       "    <tr>\n",
       "      <th>3</th>\n",
       "      <td>Mei</td>\n",
       "      <td>72</td>\n",
       "      <td>3</td>\n",
       "      <td>9.8</td>\n",
       "    </tr>\n",
       "    <tr>\n",
       "      <th>4</th>\n",
       "      <td>Loretta</td>\n",
       "      <td>91</td>\n",
       "      <td>75</td>\n",
       "      <td>36.6</td>\n",
       "    </tr>\n",
       "  </tbody>\n",
       "</table>\n",
       "</div>"
      ],
      "text/plain": [
       "   first_name  math  science  english\n",
       "0   Fransisco    70       82     68.0\n",
       "1  Frederique    66       90     26.7\n",
       "2     Obediah     1       35     10.9\n",
       "3         Mei    72        3      9.8\n",
       "4     Loretta    91       75     36.6"
      ]
     },
     "execution_count": 78,
     "metadata": {},
     "output_type": "execute_result"
    }
   ],
   "source": [
    "x.head()"
   ]
  },
  {
   "cell_type": "code",
   "execution_count": 79,
   "id": "e77e421e",
   "metadata": {},
   "outputs": [
    {
     "data": {
      "text/html": [
       "<div>\n",
       "<style scoped>\n",
       "    .dataframe tbody tr th:only-of-type {\n",
       "        vertical-align: middle;\n",
       "    }\n",
       "\n",
       "    .dataframe tbody tr th {\n",
       "        vertical-align: top;\n",
       "    }\n",
       "\n",
       "    .dataframe thead th {\n",
       "        text-align: right;\n",
       "    }\n",
       "</style>\n",
       "<table border=\"1\" class=\"dataframe\">\n",
       "  <thead>\n",
       "    <tr style=\"text-align: right;\">\n",
       "      <th></th>\n",
       "      <th>total</th>\n",
       "      <th>pass_?</th>\n",
       "    </tr>\n",
       "  </thead>\n",
       "  <tbody>\n",
       "    <tr>\n",
       "      <th>0</th>\n",
       "      <td>220.0</td>\n",
       "      <td>2</td>\n",
       "    </tr>\n",
       "    <tr>\n",
       "      <th>1</th>\n",
       "      <td>182.7</td>\n",
       "      <td>2</td>\n",
       "    </tr>\n",
       "    <tr>\n",
       "      <th>2</th>\n",
       "      <td>46.9</td>\n",
       "      <td>1</td>\n",
       "    </tr>\n",
       "    <tr>\n",
       "      <th>3</th>\n",
       "      <td>84.8</td>\n",
       "      <td>1</td>\n",
       "    </tr>\n",
       "    <tr>\n",
       "      <th>4</th>\n",
       "      <td>202.6</td>\n",
       "      <td>2</td>\n",
       "    </tr>\n",
       "  </tbody>\n",
       "</table>\n",
       "</div>"
      ],
      "text/plain": [
       "   total  pass_?\n",
       "0  220.0       2\n",
       "1  182.7       2\n",
       "2   46.9       1\n",
       "3   84.8       1\n",
       "4  202.6       2"
      ]
     },
     "execution_count": 79,
     "metadata": {},
     "output_type": "execute_result"
    }
   ],
   "source": [
    "y.head()"
   ]
  },
  {
   "cell_type": "code",
   "execution_count": 80,
   "id": "aa2f57ed",
   "metadata": {},
   "outputs": [],
   "source": [
    "df['pass_?']=df['pass_?'].astype('category')"
   ]
  },
  {
   "cell_type": "code",
   "execution_count": 81,
   "id": "f349bd7a",
   "metadata": {},
   "outputs": [],
   "source": [
    "df['pass_enc']=df['pass_?'].cat.codes"
   ]
  },
  {
   "cell_type": "code",
   "execution_count": 82,
   "id": "5424fd72",
   "metadata": {},
   "outputs": [],
   "source": [
    "df['pass_?'] = df['pass_enc']"
   ]
  },
  {
   "cell_type": "code",
   "execution_count": 83,
   "id": "67c64da2",
   "metadata": {},
   "outputs": [],
   "source": [
    "df2 = df.drop('pass_enc', axis=1)"
   ]
  },
  {
   "cell_type": "code",
   "execution_count": 84,
   "id": "6977524e",
   "metadata": {},
   "outputs": [
    {
     "data": {
      "text/html": [
       "<div>\n",
       "<style scoped>\n",
       "    .dataframe tbody tr th:only-of-type {\n",
       "        vertical-align: middle;\n",
       "    }\n",
       "\n",
       "    .dataframe tbody tr th {\n",
       "        vertical-align: top;\n",
       "    }\n",
       "\n",
       "    .dataframe thead th {\n",
       "        text-align: right;\n",
       "    }\n",
       "</style>\n",
       "<table border=\"1\" class=\"dataframe\">\n",
       "  <thead>\n",
       "    <tr style=\"text-align: right;\">\n",
       "      <th></th>\n",
       "      <th>first_name</th>\n",
       "      <th>math</th>\n",
       "      <th>science</th>\n",
       "      <th>english</th>\n",
       "      <th>total</th>\n",
       "      <th>pass_?</th>\n",
       "    </tr>\n",
       "  </thead>\n",
       "  <tbody>\n",
       "    <tr>\n",
       "      <th>0</th>\n",
       "      <td>Fransisco</td>\n",
       "      <td>70</td>\n",
       "      <td>82</td>\n",
       "      <td>68.0</td>\n",
       "      <td>220.0</td>\n",
       "      <td>2</td>\n",
       "    </tr>\n",
       "    <tr>\n",
       "      <th>1</th>\n",
       "      <td>Frederique</td>\n",
       "      <td>66</td>\n",
       "      <td>90</td>\n",
       "      <td>26.7</td>\n",
       "      <td>182.7</td>\n",
       "      <td>2</td>\n",
       "    </tr>\n",
       "    <tr>\n",
       "      <th>2</th>\n",
       "      <td>Obediah</td>\n",
       "      <td>1</td>\n",
       "      <td>35</td>\n",
       "      <td>10.9</td>\n",
       "      <td>46.9</td>\n",
       "      <td>1</td>\n",
       "    </tr>\n",
       "    <tr>\n",
       "      <th>3</th>\n",
       "      <td>Mei</td>\n",
       "      <td>72</td>\n",
       "      <td>3</td>\n",
       "      <td>9.8</td>\n",
       "      <td>84.8</td>\n",
       "      <td>1</td>\n",
       "    </tr>\n",
       "    <tr>\n",
       "      <th>4</th>\n",
       "      <td>Loretta</td>\n",
       "      <td>91</td>\n",
       "      <td>75</td>\n",
       "      <td>36.6</td>\n",
       "      <td>202.6</td>\n",
       "      <td>2</td>\n",
       "    </tr>\n",
       "  </tbody>\n",
       "</table>\n",
       "</div>"
      ],
      "text/plain": [
       "   first_name  math  science  english  total  pass_?\n",
       "0   Fransisco    70       82     68.0  220.0       2\n",
       "1  Frederique    66       90     26.7  182.7       2\n",
       "2     Obediah     1       35     10.9   46.9       1\n",
       "3         Mei    72        3      9.8   84.8       1\n",
       "4     Loretta    91       75     36.6  202.6       2"
      ]
     },
     "execution_count": 84,
     "metadata": {},
     "output_type": "execute_result"
    }
   ],
   "source": [
    "df2.head()"
   ]
  },
  {
   "cell_type": "code",
   "execution_count": 85,
   "id": "256fa13f",
   "metadata": {},
   "outputs": [],
   "source": [
    "from sklearn.model_selection import train_test_split"
   ]
  },
  {
   "cell_type": "code",
   "execution_count": 86,
   "id": "c97341f5",
   "metadata": {},
   "outputs": [],
   "source": [
    "x_train, x_test, y_train, y_test = train_test_split(x,y,test_size=0.45,random_state=1)"
   ]
  },
  {
   "cell_type": "code",
   "execution_count": 87,
   "id": "4b1c7e7d",
   "metadata": {},
   "outputs": [],
   "source": [
    "from sklearn.preprocessing import StandardScaler\n",
    "scaler = StandardScaler()"
   ]
  },
  {
   "cell_type": "code",
   "execution_count": 88,
   "id": "36a4a4f0",
   "metadata": {},
   "outputs": [],
   "source": [
    "x_train.iloc[:,1:] = scaler.fit_transform(x_train.iloc[:,1:])\n",
    "x_test.iloc[:,1:] = scaler.fit_transform(x_test.iloc[:,1:])\n",
    "\n",
    "y_train.iloc[:,:] = scaler.fit_transform(y_train.iloc[:,:])\n",
    "y_test.iloc[:,:] = scaler.fit_transform(y_test.iloc[:,:])"
   ]
  },
  {
   "cell_type": "code",
   "execution_count": 89,
   "id": "77a8e0de",
   "metadata": {},
   "outputs": [
    {
     "data": {
      "text/html": [
       "<div>\n",
       "<style scoped>\n",
       "    .dataframe tbody tr th:only-of-type {\n",
       "        vertical-align: middle;\n",
       "    }\n",
       "\n",
       "    .dataframe tbody tr th {\n",
       "        vertical-align: top;\n",
       "    }\n",
       "\n",
       "    .dataframe thead th {\n",
       "        text-align: right;\n",
       "    }\n",
       "</style>\n",
       "<table border=\"1\" class=\"dataframe\">\n",
       "  <thead>\n",
       "    <tr style=\"text-align: right;\">\n",
       "      <th></th>\n",
       "      <th>first_name</th>\n",
       "      <th>math</th>\n",
       "      <th>science</th>\n",
       "      <th>english</th>\n",
       "    </tr>\n",
       "  </thead>\n",
       "  <tbody>\n",
       "    <tr>\n",
       "      <th>41</th>\n",
       "      <td>Tabbie</td>\n",
       "      <td>0.049861</td>\n",
       "      <td>1.272815</td>\n",
       "      <td>-0.087312</td>\n",
       "    </tr>\n",
       "    <tr>\n",
       "      <th>45</th>\n",
       "      <td>Ulises</td>\n",
       "      <td>-1.451893</td>\n",
       "      <td>1.527378</td>\n",
       "      <td>-0.779055</td>\n",
       "    </tr>\n",
       "    <tr>\n",
       "      <th>91</th>\n",
       "      <td>Cherrita</td>\n",
       "      <td>-0.505135</td>\n",
       "      <td>-1.054618</td>\n",
       "      <td>-0.047264</td>\n",
       "    </tr>\n",
       "    <tr>\n",
       "      <th>26</th>\n",
       "      <td>Paloma</td>\n",
       "      <td>1.486321</td>\n",
       "      <td>-0.981886</td>\n",
       "      <td>1.019478</td>\n",
       "    </tr>\n",
       "    <tr>\n",
       "      <th>98</th>\n",
       "      <td>Raina</td>\n",
       "      <td>0.572210</td>\n",
       "      <td>-0.945520</td>\n",
       "      <td>0.513413</td>\n",
       "    </tr>\n",
       "  </tbody>\n",
       "</table>\n",
       "</div>"
      ],
      "text/plain": [
       "   first_name      math   science   english\n",
       "41     Tabbie  0.049861  1.272815 -0.087312\n",
       "45     Ulises -1.451893  1.527378 -0.779055\n",
       "91   Cherrita -0.505135 -1.054618 -0.047264\n",
       "26     Paloma  1.486321 -0.981886  1.019478\n",
       "98      Raina  0.572210 -0.945520  0.513413"
      ]
     },
     "execution_count": 89,
     "metadata": {},
     "output_type": "execute_result"
    }
   ],
   "source": [
    "x_train.head()"
   ]
  },
  {
   "cell_type": "code",
   "execution_count": 90,
   "id": "6df05671",
   "metadata": {},
   "outputs": [
    {
     "data": {
      "text/html": [
       "<div>\n",
       "<style scoped>\n",
       "    .dataframe tbody tr th:only-of-type {\n",
       "        vertical-align: middle;\n",
       "    }\n",
       "\n",
       "    .dataframe tbody tr th {\n",
       "        vertical-align: top;\n",
       "    }\n",
       "\n",
       "    .dataframe thead th {\n",
       "        text-align: right;\n",
       "    }\n",
       "</style>\n",
       "<table border=\"1\" class=\"dataframe\">\n",
       "  <thead>\n",
       "    <tr style=\"text-align: right;\">\n",
       "      <th></th>\n",
       "      <th>total</th>\n",
       "      <th>pass_?</th>\n",
       "    </tr>\n",
       "  </thead>\n",
       "  <tbody>\n",
       "    <tr>\n",
       "      <th>80</th>\n",
       "      <td>0.853450</td>\n",
       "      <td>0.442326</td>\n",
       "    </tr>\n",
       "    <tr>\n",
       "      <th>84</th>\n",
       "      <td>-0.300367</td>\n",
       "      <td>0.442326</td>\n",
       "    </tr>\n",
       "    <tr>\n",
       "      <th>33</th>\n",
       "      <td>-1.468109</td>\n",
       "      <td>-1.769303</td>\n",
       "    </tr>\n",
       "    <tr>\n",
       "      <th>81</th>\n",
       "      <td>-1.187612</td>\n",
       "      <td>-1.769303</td>\n",
       "    </tr>\n",
       "    <tr>\n",
       "      <th>93</th>\n",
       "      <td>1.394550</td>\n",
       "      <td>0.442326</td>\n",
       "    </tr>\n",
       "  </tbody>\n",
       "</table>\n",
       "</div>"
      ],
      "text/plain": [
       "       total    pass_?\n",
       "80  0.853450  0.442326\n",
       "84 -0.300367  0.442326\n",
       "33 -1.468109 -1.769303\n",
       "81 -1.187612 -1.769303\n",
       "93  1.394550  0.442326"
      ]
     },
     "execution_count": 90,
     "metadata": {},
     "output_type": "execute_result"
    }
   ],
   "source": [
    "y_test.head()"
   ]
  },
  {
   "cell_type": "code",
   "execution_count": 91,
   "id": "65b8ea36",
   "metadata": {},
   "outputs": [
    {
     "data": {
      "text/plain": [
       "array([2, 1, 0], dtype=int8)"
      ]
     },
     "execution_count": 91,
     "metadata": {},
     "output_type": "execute_result"
    }
   ],
   "source": [
    "df2['pass_?'].unique()"
   ]
  },
  {
   "cell_type": "markdown",
   "id": "e6586ab2",
   "metadata": {},
   "source": [
    "### Simple Linear Regression"
   ]
  },
  {
   "cell_type": "code",
   "execution_count": 97,
   "id": "e7c98019",
   "metadata": {},
   "outputs": [],
   "source": [
    "from sklearn.linear_model import LinearRegression\n",
    "import matplotlib.pyplot as plt"
   ]
  },
  {
   "cell_type": "code",
   "execution_count": 99,
   "id": "6cbffb63",
   "metadata": {},
   "outputs": [
    {
     "data": {
      "text/html": [
       "<div>\n",
       "<style scoped>\n",
       "    .dataframe tbody tr th:only-of-type {\n",
       "        vertical-align: middle;\n",
       "    }\n",
       "\n",
       "    .dataframe tbody tr th {\n",
       "        vertical-align: top;\n",
       "    }\n",
       "\n",
       "    .dataframe thead th {\n",
       "        text-align: right;\n",
       "    }\n",
       "</style>\n",
       "<table border=\"1\" class=\"dataframe\">\n",
       "  <thead>\n",
       "    <tr style=\"text-align: right;\">\n",
       "      <th></th>\n",
       "      <th>first_name</th>\n",
       "      <th>math</th>\n",
       "      <th>science</th>\n",
       "      <th>english</th>\n",
       "      <th>total</th>\n",
       "      <th>pass_?</th>\n",
       "    </tr>\n",
       "  </thead>\n",
       "  <tbody>\n",
       "    <tr>\n",
       "      <th>0</th>\n",
       "      <td>Fransisco</td>\n",
       "      <td>70</td>\n",
       "      <td>82</td>\n",
       "      <td>68.0</td>\n",
       "      <td>220.0</td>\n",
       "      <td>2</td>\n",
       "    </tr>\n",
       "    <tr>\n",
       "      <th>1</th>\n",
       "      <td>Frederique</td>\n",
       "      <td>66</td>\n",
       "      <td>90</td>\n",
       "      <td>26.7</td>\n",
       "      <td>182.7</td>\n",
       "      <td>2</td>\n",
       "    </tr>\n",
       "    <tr>\n",
       "      <th>2</th>\n",
       "      <td>Obediah</td>\n",
       "      <td>1</td>\n",
       "      <td>35</td>\n",
       "      <td>10.9</td>\n",
       "      <td>46.9</td>\n",
       "      <td>1</td>\n",
       "    </tr>\n",
       "    <tr>\n",
       "      <th>3</th>\n",
       "      <td>Mei</td>\n",
       "      <td>72</td>\n",
       "      <td>3</td>\n",
       "      <td>9.8</td>\n",
       "      <td>84.8</td>\n",
       "      <td>1</td>\n",
       "    </tr>\n",
       "    <tr>\n",
       "      <th>4</th>\n",
       "      <td>Loretta</td>\n",
       "      <td>91</td>\n",
       "      <td>75</td>\n",
       "      <td>36.6</td>\n",
       "      <td>202.6</td>\n",
       "      <td>2</td>\n",
       "    </tr>\n",
       "    <tr>\n",
       "      <th>...</th>\n",
       "      <td>...</td>\n",
       "      <td>...</td>\n",
       "      <td>...</td>\n",
       "      <td>...</td>\n",
       "      <td>...</td>\n",
       "      <td>...</td>\n",
       "    </tr>\n",
       "    <tr>\n",
       "      <th>95</th>\n",
       "      <td>Farrah</td>\n",
       "      <td>73</td>\n",
       "      <td>8</td>\n",
       "      <td>87.9</td>\n",
       "      <td>168.9</td>\n",
       "      <td>2</td>\n",
       "    </tr>\n",
       "    <tr>\n",
       "      <th>96</th>\n",
       "      <td>Hildegaard</td>\n",
       "      <td>87</td>\n",
       "      <td>77</td>\n",
       "      <td>80.5</td>\n",
       "      <td>244.5</td>\n",
       "      <td>2</td>\n",
       "    </tr>\n",
       "    <tr>\n",
       "      <th>97</th>\n",
       "      <td>Bettye</td>\n",
       "      <td>19</td>\n",
       "      <td>25</td>\n",
       "      <td>97.0</td>\n",
       "      <td>141.0</td>\n",
       "      <td>2</td>\n",
       "    </tr>\n",
       "    <tr>\n",
       "      <th>98</th>\n",
       "      <td>Raina</td>\n",
       "      <td>65</td>\n",
       "      <td>27</td>\n",
       "      <td>63.5</td>\n",
       "      <td>155.5</td>\n",
       "      <td>2</td>\n",
       "    </tr>\n",
       "    <tr>\n",
       "      <th>99</th>\n",
       "      <td>Tarrah</td>\n",
       "      <td>22</td>\n",
       "      <td>90</td>\n",
       "      <td>25.2</td>\n",
       "      <td>137.2</td>\n",
       "      <td>2</td>\n",
       "    </tr>\n",
       "  </tbody>\n",
       "</table>\n",
       "<p>100 rows × 6 columns</p>\n",
       "</div>"
      ],
      "text/plain": [
       "    first_name  math  science  english  total  pass_?\n",
       "0    Fransisco    70       82     68.0  220.0       2\n",
       "1   Frederique    66       90     26.7  182.7       2\n",
       "2      Obediah     1       35     10.9   46.9       1\n",
       "3          Mei    72        3      9.8   84.8       1\n",
       "4      Loretta    91       75     36.6  202.6       2\n",
       "..         ...   ...      ...      ...    ...     ...\n",
       "95      Farrah    73        8     87.9  168.9       2\n",
       "96  Hildegaard    87       77     80.5  244.5       2\n",
       "97      Bettye    19       25     97.0  141.0       2\n",
       "98       Raina    65       27     63.5  155.5       2\n",
       "99      Tarrah    22       90     25.2  137.2       2\n",
       "\n",
       "[100 rows x 6 columns]"
      ]
     },
     "execution_count": 99,
     "metadata": {},
     "output_type": "execute_result"
    }
   ],
   "source": [
    "df2"
   ]
  },
  {
   "cell_type": "code",
   "execution_count": 100,
   "id": "078c0eef",
   "metadata": {},
   "outputs": [
    {
     "data": {
      "text/plain": [
       "'math'"
      ]
     },
     "execution_count": 100,
     "metadata": {},
     "output_type": "execute_result"
    },
    {
     "data": {
      "image/png": "[encoded data removed]",
      "text/plain": [
       "<Figure size 432x288 with 1 Axes>"
      ]
     },
     "metadata": {
      "needs_background": "light"
     },
     "output_type": "display_data"
    }
   ],
   "source": [
    "%matplotlib inline\n",
    "\n",
    "plt.scatter(df.math, df['total'])\n",
    "plt.xlabel"
   ]
  },
  {
   "cell_type": "code",
   "execution_count": 102,
   "id": "1dbfc8b7",
   "metadata": {},
   "outputs": [],
   "source": [
    "reg = LinearRegression() "
   ]
  },
  {
   "cell_type": "code",
   "execution_count": 111,
   "id": "e453ea28",
   "metadata": {},
   "outputs": [
    {
     "data": {
      "text/html": [
       "<style>#sk-container-id-3 {color: black;background-color: white;}#sk-container-id-3 pre{padding: 0;}#sk-container-id-3 div.sk-toggleable {background-color: white;}#sk-container-id-3 label.sk-toggleable__label {cursor: pointer;display: block;width: 100%;margin-bottom: 0;padding: 0.3em;box-sizing: border-box;text-align: center;}#sk-container-id-3 label.sk-toggleable__label-arrow:before {content: \"▸\";float: left;margin-right: 0.25em;color: #696969;}#sk-container-id-3 label.sk-toggleable__label-arrow:hover:before {color: black;}#sk-container-id-3 div.sk-estimator:hover label.sk-toggleable__label-arrow:before {color: black;}#sk-container-id-3 div.sk-toggleable__content {max-height: 0;max-width: 0;overflow: hidden;text-align: left;background-color: #f0f8ff;}#sk-container-id-3 div.sk-toggleable__content pre {margin: 0.2em;color: black;border-radius: 0.25em;background-color: #f0f8ff;}#sk-container-id-3 input.sk-toggleable__control:checked~div.sk-toggleable__content {max-height: 200px;max-width: 100%;overflow: auto;}#sk-container-id-3 input.sk-toggleable__control:checked~label.sk-toggleable__label-arrow:before {content: \"▾\";}#sk-container-id-3 div.sk-estimator input.sk-toggleable__control:checked~label.sk-toggleable__label {background-color: #d4ebff;}#sk-container-id-3 div.sk-label input.sk-toggleable__control:checked~label.sk-toggleable__label {background-color: #d4ebff;}#sk-container-id-3 input.sk-hidden--visually {border: 0;clip: rect(1px 1px 1px 1px);clip: rect(1px, 1px, 1px, 1px);height: 1px;margin: -1px;overflow: hidden;padding: 0;position: absolute;width: 1px;}#sk-container-id-3 div.sk-estimator {font-family: monospace;background-color: #f0f8ff;border: 1px dotted black;border-radius: 0.25em;box-sizing: border-box;margin-bottom: 0.5em;}#sk-container-id-3 div.sk-estimator:hover {background-color: #d4ebff;}#sk-container-id-3 div.sk-parallel-item::after {content: \"\";width: 100%;border-bottom: 1px solid gray;flex-grow: 1;}#sk-container-id-3 div.sk-label:hover label.sk-toggleable__label {background-color: #d4ebff;}#sk-container-id-3 div.sk-serial::before {content: \"\";position: absolute;border-left: 1px solid gray;box-sizing: border-box;top: 0;bottom: 0;left: 50%;z-index: 0;}#sk-container-id-3 div.sk-serial {display: flex;flex-direction: column;align-items: center;background-color: white;padding-right: 0.2em;padding-left: 0.2em;position: relative;}#sk-container-id-3 div.sk-item {position: relative;z-index: 1;}#sk-container-id-3 div.sk-parallel {display: flex;align-items: stretch;justify-content: center;background-color: white;position: relative;}#sk-container-id-3 div.sk-item::before, #sk-container-id-3 div.sk-parallel-item::before {content: \"\";position: absolute;border-left: 1px solid gray;box-sizing: border-box;top: 0;bottom: 0;left: 50%;z-index: -1;}#sk-container-id-3 div.sk-parallel-item {display: flex;flex-direction: column;z-index: 1;position: relative;background-color: white;}#sk-container-id-3 div.sk-parallel-item:first-child::after {align-self: flex-end;width: 50%;}#sk-container-id-3 div.sk-parallel-item:last-child::after {align-self: flex-start;width: 50%;}#sk-container-id-3 div.sk-parallel-item:only-child::after {width: 0;}#sk-container-id-3 div.sk-dashed-wrapped {border: 1px dashed gray;margin: 0 0.4em 0.5em 0.4em;box-sizing: border-box;padding-bottom: 0.4em;background-color: white;}#sk-container-id-3 div.sk-label label {font-family: monospace;font-weight: bold;display: inline-block;line-height: 1.2em;}#sk-container-id-3 div.sk-label-container {text-align: center;}#sk-container-id-3 div.sk-container {/* jupyter's `normalize.less` sets `[hidden] { display: none; }` but bootstrap.min.css set `[hidden] { display: none !important; }` so we also need the `!important` here to be able to override the default hidden behavior on the sphinx rendered scikit-learn.org. See: https://github.com/scikit-learn/scikit-learn/issues/21755 */display: inline-block !important;position: relative;}#sk-container-id-3 div.sk-text-repr-fallback {display: none;}</style><div id=\"sk-container-id-3\" class=\"sk-top-container\"><div class=\"sk-text-repr-fallback\"><pre>LinearRegression()</pre><b>In a Jupyter environment, please rerun this cell to show the HTML representation or trust the notebook. <br />On GitHub, the HTML representation is unable to render, please try loading this page with nbviewer.org.</b></div><div class=\"sk-container\" hidden><div class=\"sk-item\"><div class=\"sk-estimator sk-toggleable\"><input class=\"sk-toggleable__control sk-hidden--visually\" id=\"sk-estimator-id-3\" type=\"checkbox\" checked><label for=\"sk-estimator-id-3\" class=\"sk-toggleable__label sk-toggleable__label-arrow\">LinearRegression</label><div class=\"sk-toggleable__content\"><pre>LinearRegression()</pre></div></div></div></div></div>"
      ],
      "text/plain": [
       "LinearRegression()"
      ]
     },
     "execution_count": 111,
     "metadata": {},
     "output_type": "execute_result"
    }
   ],
   "source": [
    "reg.fit(df[['math']], df['total'])"
   ]
  },
  {
   "cell_type": "code",
   "execution_count": 113,
   "id": "b7cc40c3",
   "metadata": {},
   "outputs": [
    {
     "data": {
      "text/plain": [
       "99.10528613006183"
      ]
     },
     "execution_count": 113,
     "metadata": {},
     "output_type": "execute_result"
    }
   ],
   "source": [
    "reg.intercept_"
   ]
  },
  {
   "cell_type": "code",
   "execution_count": 114,
   "id": "c575c423",
   "metadata": {},
   "outputs": [
    {
     "data": {
      "text/plain": [
       "array([1.00150265])"
      ]
     },
     "execution_count": 114,
     "metadata": {},
     "output_type": "execute_result"
    }
   ],
   "source": [
    "reg.coef_"
   ]
  },
  {
   "cell_type": "code",
   "execution_count": 117,
   "id": "3fe40470",
   "metadata": {},
   "outputs": [
    {
     "name": "stderr",
     "output_type": "stream",
     "text": [
      "/opt/homebrew/lib/python3.9/site-packages/sklearn/base.py:450: UserWarning: X does not have valid feature names, but LinearRegression was fitted with feature names\n",
      "  warnings.warn(\n"
     ]
    },
    {
     "data": {
      "text/plain": [
       "array([199.25555149])"
      ]
     },
     "execution_count": 117,
     "metadata": {},
     "output_type": "execute_result"
    }
   ],
   "source": [
    "reg.predict([[100]]) ##passing a 2D array and not 1D"
   ]
  },
  {
   "cell_type": "code",
   "execution_count": 118,
   "id": "88afc5cf",
   "metadata": {},
   "outputs": [
    {
     "name": "stderr",
     "output_type": "stream",
     "text": [
      "/opt/homebrew/lib/python3.9/site-packages/sklearn/base.py:450: UserWarning: X does not have valid feature names, but LinearRegression was fitted with feature names\n",
      "  warnings.warn(\n"
     ]
    },
    {
     "data": {
      "text/plain": [
       "array([149.18041881])"
      ]
     },
     "execution_count": 118,
     "metadata": {},
     "output_type": "execute_result"
    }
   ],
   "source": [
    "reg.predict([[50]])"
   ]
  },
  {
   "cell_type": "code",
   "execution_count": 121,
   "id": "c1a68edf",
   "metadata": {},
   "outputs": [],
   "source": [
    "p = reg.predict(df[['math']]) ## creating an array of predictions per x value"
   ]
  },
  {
   "cell_type": "code",
   "execution_count": 124,
   "id": "3fe6b937",
   "metadata": {},
   "outputs": [
    {
     "data": {
      "text/plain": [
       "dtype('float64')"
      ]
     },
     "execution_count": 124,
     "metadata": {},
     "output_type": "execute_result"
    }
   ],
   "source": [
    "p.dtype"
   ]
  },
  {
   "cell_type": "code",
   "execution_count": 125,
   "id": "a2d0d94b",
   "metadata": {},
   "outputs": [],
   "source": [
    "df['predicted_total'] = p"
   ]
  },
  {
   "cell_type": "code",
   "execution_count": 126,
   "id": "d19f6333",
   "metadata": {},
   "outputs": [
    {
     "data": {
      "text/html": [
       "<div>\n",
       "<style scoped>\n",
       "    .dataframe tbody tr th:only-of-type {\n",
       "        vertical-align: middle;\n",
       "    }\n",
       "\n",
       "    .dataframe tbody tr th {\n",
       "        vertical-align: top;\n",
       "    }\n",
       "\n",
       "    .dataframe thead th {\n",
       "        text-align: right;\n",
       "    }\n",
       "</style>\n",
       "<table border=\"1\" class=\"dataframe\">\n",
       "  <thead>\n",
       "    <tr style=\"text-align: right;\">\n",
       "      <th></th>\n",
       "      <th>first_name</th>\n",
       "      <th>math</th>\n",
       "      <th>science</th>\n",
       "      <th>english</th>\n",
       "      <th>total</th>\n",
       "      <th>pass_?</th>\n",
       "      <th>pass_enc</th>\n",
       "      <th>predicted_total</th>\n",
       "    </tr>\n",
       "  </thead>\n",
       "  <tbody>\n",
       "    <tr>\n",
       "      <th>0</th>\n",
       "      <td>Fransisco</td>\n",
       "      <td>70</td>\n",
       "      <td>82</td>\n",
       "      <td>68.0</td>\n",
       "      <td>220.0</td>\n",
       "      <td>2</td>\n",
       "      <td>2</td>\n",
       "      <td>169.210472</td>\n",
       "    </tr>\n",
       "    <tr>\n",
       "      <th>1</th>\n",
       "      <td>Frederique</td>\n",
       "      <td>66</td>\n",
       "      <td>90</td>\n",
       "      <td>26.7</td>\n",
       "      <td>182.7</td>\n",
       "      <td>2</td>\n",
       "      <td>2</td>\n",
       "      <td>165.204461</td>\n",
       "    </tr>\n",
       "    <tr>\n",
       "      <th>2</th>\n",
       "      <td>Obediah</td>\n",
       "      <td>1</td>\n",
       "      <td>35</td>\n",
       "      <td>10.9</td>\n",
       "      <td>46.9</td>\n",
       "      <td>1</td>\n",
       "      <td>1</td>\n",
       "      <td>100.106789</td>\n",
       "    </tr>\n",
       "    <tr>\n",
       "      <th>3</th>\n",
       "      <td>Mei</td>\n",
       "      <td>72</td>\n",
       "      <td>3</td>\n",
       "      <td>9.8</td>\n",
       "      <td>84.8</td>\n",
       "      <td>1</td>\n",
       "      <td>1</td>\n",
       "      <td>171.213477</td>\n",
       "    </tr>\n",
       "    <tr>\n",
       "      <th>4</th>\n",
       "      <td>Loretta</td>\n",
       "      <td>91</td>\n",
       "      <td>75</td>\n",
       "      <td>36.6</td>\n",
       "      <td>202.6</td>\n",
       "      <td>2</td>\n",
       "      <td>2</td>\n",
       "      <td>190.242028</td>\n",
       "    </tr>\n",
       "    <tr>\n",
       "      <th>...</th>\n",
       "      <td>...</td>\n",
       "      <td>...</td>\n",
       "      <td>...</td>\n",
       "      <td>...</td>\n",
       "      <td>...</td>\n",
       "      <td>...</td>\n",
       "      <td>...</td>\n",
       "      <td>...</td>\n",
       "    </tr>\n",
       "    <tr>\n",
       "      <th>95</th>\n",
       "      <td>Farrah</td>\n",
       "      <td>73</td>\n",
       "      <td>8</td>\n",
       "      <td>87.9</td>\n",
       "      <td>168.9</td>\n",
       "      <td>2</td>\n",
       "      <td>2</td>\n",
       "      <td>172.214980</td>\n",
       "    </tr>\n",
       "    <tr>\n",
       "      <th>96</th>\n",
       "      <td>Hildegaard</td>\n",
       "      <td>87</td>\n",
       "      <td>77</td>\n",
       "      <td>80.5</td>\n",
       "      <td>244.5</td>\n",
       "      <td>2</td>\n",
       "      <td>2</td>\n",
       "      <td>186.236017</td>\n",
       "    </tr>\n",
       "    <tr>\n",
       "      <th>97</th>\n",
       "      <td>Bettye</td>\n",
       "      <td>19</td>\n",
       "      <td>25</td>\n",
       "      <td>97.0</td>\n",
       "      <td>141.0</td>\n",
       "      <td>2</td>\n",
       "      <td>2</td>\n",
       "      <td>118.133837</td>\n",
       "    </tr>\n",
       "    <tr>\n",
       "      <th>98</th>\n",
       "      <td>Raina</td>\n",
       "      <td>65</td>\n",
       "      <td>27</td>\n",
       "      <td>63.5</td>\n",
       "      <td>155.5</td>\n",
       "      <td>2</td>\n",
       "      <td>2</td>\n",
       "      <td>164.202959</td>\n",
       "    </tr>\n",
       "    <tr>\n",
       "      <th>99</th>\n",
       "      <td>Tarrah</td>\n",
       "      <td>22</td>\n",
       "      <td>90</td>\n",
       "      <td>25.2</td>\n",
       "      <td>137.2</td>\n",
       "      <td>2</td>\n",
       "      <td>2</td>\n",
       "      <td>121.138345</td>\n",
       "    </tr>\n",
       "  </tbody>\n",
       "</table>\n",
       "<p>100 rows × 8 columns</p>\n",
       "</div>"
      ],
      "text/plain": [
       "    first_name  math  science  english  total  pass_?  pass_enc  \\\n",
       "0    Fransisco    70       82     68.0  220.0       2         2   \n",
       "1   Frederique    66       90     26.7  182.7       2         2   \n",
       "2      Obediah     1       35     10.9   46.9       1         1   \n",
       "3          Mei    72        3      9.8   84.8       1         1   \n",
       "4      Loretta    91       75     36.6  202.6       2         2   \n",
       "..         ...   ...      ...      ...    ...     ...       ...   \n",
       "95      Farrah    73        8     87.9  168.9       2         2   \n",
       "96  Hildegaard    87       77     80.5  244.5       2         2   \n",
       "97      Bettye    19       25     97.0  141.0       2         2   \n",
       "98       Raina    65       27     63.5  155.5       2         2   \n",
       "99      Tarrah    22       90     25.2  137.2       2         2   \n",
       "\n",
       "    predicted_total  \n",
       "0        169.210472  \n",
       "1        165.204461  \n",
       "2        100.106789  \n",
       "3        171.213477  \n",
       "4        190.242028  \n",
       "..              ...  \n",
       "95       172.214980  \n",
       "96       186.236017  \n",
       "97       118.133837  \n",
       "98       164.202959  \n",
       "99       121.138345  \n",
       "\n",
       "[100 rows x 8 columns]"
      ]
     },
     "execution_count": 126,
     "metadata": {},
     "output_type": "execute_result"
    }
   ],
   "source": [
    "df"
   ]
  },
  {
   "cell_type": "code",
   "execution_count": 140,
   "id": "605311f0",
   "metadata": {},
   "outputs": [
    {
     "data": {
      "text/plain": [
       "[<matplotlib.lines.Line2D at 0x16e342e80>]"
      ]
     },
     "execution_count": 140,
     "metadata": {},
     "output_type": "execute_result"
    },
    {
     "data": {
      "image/png": "[encoded data removed]",
      "text/plain": [
       "<Figure size 432x288 with 1 Axes>"
      ]
     },
     "metadata": {
      "needs_background": "light"
     },
     "output_type": "display_data"
    }
   ],
   "source": [
    "%matplotlib inline\n",
    "\n",
    "plt.scatter(df.math, df['total'])\n",
    "plt.plot(df.math, reg.predict(df[['math']]), color =\"red\") ## x values are values on x axis but y values are taken from the prediction array p"
   ]
  },
  {
   "cell_type": "code",
   "execution_count": 141,
   "id": "f30d8d65",
   "metadata": {
    "scrolled": true
   },
   "outputs": [
    {
     "name": "stderr",
     "output_type": "stream",
     "text": [
      "/opt/homebrew/lib/python3.9/site-packages/sklearn/base.py:450: UserWarning: X does not have valid feature names, but LinearRegression was fitted with feature names\n",
      "  warnings.warn(\n"
     ]
    },
    {
     "data": {
      "text/plain": [
       "array([179.22549841])"
      ]
     },
     "execution_count": 141,
     "metadata": {},
     "output_type": "execute_result"
    }
   ],
   "source": [
    "reg.predict([[80\n",
    "             ]])"
   ]
  },
  {
   "cell_type": "code",
   "execution_count": 142,
   "id": "3a834674",
   "metadata": {},
   "outputs": [
    {
     "data": {
      "text/plain": [
       "0     70\n",
       "1     66\n",
       "2      1\n",
       "3     72\n",
       "4     91\n",
       "      ..\n",
       "95    73\n",
       "96    87\n",
       "97    19\n",
       "98    65\n",
       "99    22\n",
       "Name: math, Length: 100, dtype: int64"
      ]
     },
     "execution_count": 142,
     "metadata": {},
     "output_type": "execute_result"
    }
   ],
   "source": [
    "df.math"
   ]
  },
  {
   "cell_type": "code",
   "execution_count": 144,
   "id": "e578d9aa",
   "metadata": {},
   "outputs": [
    {
     "data": {
      "text/plain": [
       "array([169.21047188, 165.20446126, 100.10678878, 171.21347719,\n",
       "       190.2420276 , 158.19394269, 135.15938166, 119.1353392 ,\n",
       "       102.10979409, 159.19544534, 199.25555149, 124.14285247,\n",
       "       110.12181532, 112.12482063, 132.1548737 , 128.14886308,\n",
       "       105.11430205, 131.15337104, 139.16539227, 161.19845065,\n",
       "       106.1158047 , 121.13834451, 108.11881001, 178.22399576,\n",
       "       169.21047188, 131.15337104, 192.24503291, 157.19244004,\n",
       "       146.17591085, 196.25104352, 129.15036574, 158.19394269,\n",
       "       148.17891615, 141.16839758, 165.20446126, 116.13083124,\n",
       "       187.23751964, 196.25104352, 154.18793208, 138.16388962,\n",
       "       141.16839758, 148.17891615, 127.14736043, 195.24954087,\n",
       "       152.18492677, 102.10979409, 136.16088431, 184.23301168,\n",
       "       132.1548737 , 190.2420276 , 146.17591085, 185.23451434,\n",
       "       128.14886308, 122.13984716, 127.14736043, 113.12632328,\n",
       "       141.16839758, 175.2194878 , 181.22850372, 128.14886308,\n",
       "       176.22099045, 129.15036574, 167.20746657, 100.10678878,\n",
       "       163.20145596, 150.18192146, 113.12632328, 168.20896923,\n",
       "       194.24803822, 104.1127994 , 135.15938166, 156.19093738,\n",
       "       139.16539227, 123.14134982, 111.12331797,  99.10528613,\n",
       "       164.20295861, 144.17290554, 154.18793208, 185.23451434,\n",
       "       187.23751964, 107.11730736, 197.25254618, 103.11129674,\n",
       "       182.23000638, 132.1548737 , 117.13233389, 182.23000638,\n",
       "       123.14134982, 135.15938166, 117.13233389, 131.15337104,\n",
       "       181.22850372, 186.23601699, 184.23301168, 172.21497984,\n",
       "       186.23601699, 118.13383655, 164.20295861, 121.13834451])"
      ]
     },
     "execution_count": 144,
     "metadata": {},
     "output_type": "execute_result"
    }
   ],
   "source": [
    "reg.predict(df[['math']])"
   ]
  },
  {
   "cell_type": "code",
   "execution_count": 145,
   "id": "ae5688a4",
   "metadata": {},
   "outputs": [
    {
     "name": "stderr",
     "output_type": "stream",
     "text": [
      "/opt/homebrew/lib/python3.9/site-packages/sklearn/base.py:450: UserWarning: X does not have valid feature names, but LinearRegression was fitted with feature names\n",
      "  warnings.warn(\n"
     ]
    },
    {
     "data": {
      "text/plain": [
       "array([165.20446126])"
      ]
     },
     "execution_count": 145,
     "metadata": {},
     "output_type": "execute_result"
    }
   ],
   "source": [
    "reg.predict([[66]]) ## confirming from the displayed array if the prdiction matches with the x value."
   ]
  },
  {
   "cell_type": "code",
   "execution_count": 146,
   "id": "299b8956",
   "metadata": {},
   "outputs": [
    {
     "data": {
      "text/plain": [
       "array([169.21047188, 165.20446126, 100.10678878, 171.21347719,\n",
       "       190.2420276 , 158.19394269, 135.15938166, 119.1353392 ,\n",
       "       102.10979409, 159.19544534, 199.25555149, 124.14285247,\n",
       "       110.12181532, 112.12482063, 132.1548737 , 128.14886308,\n",
       "       105.11430205, 131.15337104, 139.16539227, 161.19845065,\n",
       "       106.1158047 , 121.13834451, 108.11881001, 178.22399576,\n",
       "       169.21047188, 131.15337104, 192.24503291, 157.19244004,\n",
       "       146.17591085, 196.25104352, 129.15036574, 158.19394269,\n",
       "       148.17891615, 141.16839758, 165.20446126, 116.13083124,\n",
       "       187.23751964, 196.25104352, 154.18793208, 138.16388962,\n",
       "       141.16839758, 148.17891615, 127.14736043, 195.24954087,\n",
       "       152.18492677, 102.10979409, 136.16088431, 184.23301168,\n",
       "       132.1548737 , 190.2420276 , 146.17591085, 185.23451434,\n",
       "       128.14886308, 122.13984716, 127.14736043, 113.12632328,\n",
       "       141.16839758, 175.2194878 , 181.22850372, 128.14886308,\n",
       "       176.22099045, 129.15036574, 167.20746657, 100.10678878,\n",
       "       163.20145596, 150.18192146, 113.12632328, 168.20896923,\n",
       "       194.24803822, 104.1127994 , 135.15938166, 156.19093738,\n",
       "       139.16539227, 123.14134982, 111.12331797,  99.10528613,\n",
       "       164.20295861, 144.17290554, 154.18793208, 185.23451434,\n",
       "       187.23751964, 107.11730736, 197.25254618, 103.11129674,\n",
       "       182.23000638, 132.1548737 , 117.13233389, 182.23000638,\n",
       "       123.14134982, 135.15938166, 117.13233389, 131.15337104,\n",
       "       181.22850372, 186.23601699, 184.23301168, 172.21497984,\n",
       "       186.23601699, 118.13383655, 164.20295861, 121.13834451])"
      ]
     },
     "execution_count": 146,
     "metadata": {},
     "output_type": "execute_result"
    }
   ],
   "source": [
    "p"
   ]
  },
  {
   "cell_type": "code",
   "execution_count": null,
   "id": "dde07395",
   "metadata": {},
   "outputs": [],
   "source": []
  }
 ],
 "metadata": {
  "kernelspec": {
   "display_name": "Python 3.9.9 64-bit",
   "language": "python",
   "name": "python399jvsc74a57bd0b0fa6594d8f4cbf19f97940f81e996739fb7646882a419484c72d19e05852a7e"
  },
  "language_info": {
   "codemirror_mode": {
    "name": "ipython",
    "version": 3
   },
   "file_extension": ".py",
   "mimetype": "text/x-python",
   "name": "python",
   "nbconvert_exporter": "python",
   "pygments_lexer": "ipython3",
   "version": "3.9.9"
  }
 },
 "nbformat": 4,
 "nbformat_minor": 5
}
