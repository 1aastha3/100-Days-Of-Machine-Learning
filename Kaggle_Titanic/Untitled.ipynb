{
 "cells": [
  {
   "cell_type": "code",
   "execution_count": null,
   "id": "99a2448a-c18f-414a-9a05-ccce2f6b4958",
   "metadata": {},
   "outputs": [],
   "source": [
    "test_df['Embarked'].fillna(value='S', inplace = True)\n",
    "test_df['Cabin'].fillna(value='Z', inplace=True)\n",
    "test_df['Age'].fillna(value=train_df['Age'].mean(), inplace=True)\n",
    "test_df['Family_size'] = test_df['SibSp'] + test_df['Parch']\n",
    "test_df['Designation'] = test_df.Name.str.extract(' ([A-Za-z]+)\\.')\n",
    "test_df['Designation'] = test_df['Designation'].replace('Ms', 'Miss')\n",
    "test_df['Designation'] = test_df['Designation'].replace('Mlle', 'Miss')\n",
    "test_df['Designation'] = test_df['Designation'].replace('Mme', 'Mrs')\n",
    "encoding_test = {\"Designation\" : {\"Mr\" : 1, \"Miss\" : 2, \"Mrs\": 3, \"Master\": 4, \"Dr\":0, \"Rev\":0,\"Major\":0, \"Col\":0,\"Countess\":0,\"Capt\":0,\"Sir\":0,\"Lady\":0, \"Don\":0, \"Jonkheer\":0}}\n",
    "test_df = test_df.replace(encoding_test)\n",
    "for p in [test_df]:\n",
    "    p['Married'] = 0\n",
    "    p['Married'].loc[p['Designation'] == 3] = 1 \n",
    "test_df=test_df.drop(columns=['Name', 'Ticket', 'Fare'])\n",
    "for q in [test_df]:\n",
    "    q['Cabin'] = q['Cabin'].str[0]\n",
    "custom_encoding_test = {'Cabin' : {'A': 0, 'B':1, 'C':2, 'D':3,'E':4, 'F':5, 'G': 6, 'T':7, 'Z':8}}\n",
    "test_df = test_df.replace(custom_encoding_test)\n",
    "test_df = test_df.drop(columns='Designation')\n",
    "test_df = test_df.drop(columns=['SibSp', 'Parch'])\n",
    "hot_encoded_df_test = (pd.get_dummies(test_df, columns=['Pclass', 'Cabin', 'Embarked','Family_size','Married']))\n",
    "hot_encoded_df_test['Age'] = (hot_encoded_df_test['Age'] - hot_encoded_df_test['Age'].min())/(hot_encoded_df_test['Age'].max()-hot_encoded_df_test['Age'].min())\n",
    "hot_encoded_df_test['Sex'] = hot_encoded_df_test['Sex'].astype('category')\n",
    "hot_encoded_df_test['Sex'] = hot_encoded_df_test['Sex'].cat.codes\n"
   ]
  }
 ],
 "metadata": {
  "kernelspec": {
   "display_name": "Python 3 (ipykernel)",
   "language": "python",
   "name": "python3"
  },
  "language_info": {
   "codemirror_mode": {
    "name": "ipython",
    "version": 3
   },
   "file_extension": ".py",
   "mimetype": "text/x-python",
   "name": "python",
   "nbconvert_exporter": "python",
   "pygments_lexer": "ipython3",
   "version": "3.9.12"
  }
 },
 "nbformat": 4,
 "nbformat_minor": 5
}
