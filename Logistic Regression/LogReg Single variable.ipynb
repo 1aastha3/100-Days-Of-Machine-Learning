{
 "cells": [
  {
   "cell_type": "code",
   "execution_count": 3,
   "id": "462ed3c3-9df2-40ce-9093-25528ea6064b",
   "metadata": {},
   "outputs": [],
   "source": [
    "import numpy as np\n",
    "import pandas as pd\n",
    "import matplotlib.pyplot as plt"
   ]
  },
  {
   "cell_type": "code",
   "execution_count": 4,
   "id": "2a59004d-e1f1-4d1b-b280-9ba048f698e6",
   "metadata": {},
   "outputs": [],
   "source": [
    "df = pd.read_csv('/Users/aasthaprajapati/Desktop/MOCK_DATA (1).csv')"
   ]
  },
  {
   "cell_type": "code",
   "execution_count": 5,
   "id": "f6fe9c55-84a9-4c30-94ef-b2c08c693e45",
   "metadata": {},
   "outputs": [
    {
     "data": {
      "text/html": [
       "<div>\n",
       "<style scoped>\n",
       "    .dataframe tbody tr th:only-of-type {\n",
       "        vertical-align: middle;\n",
       "    }\n",
       "\n",
       "    .dataframe tbody tr th {\n",
       "        vertical-align: top;\n",
       "    }\n",
       "\n",
       "    .dataframe thead th {\n",
       "        text-align: right;\n",
       "    }\n",
       "</style>\n",
       "<table border=\"1\" class=\"dataframe\">\n",
       "  <thead>\n",
       "    <tr style=\"text-align: right;\">\n",
       "      <th></th>\n",
       "      <th>weight</th>\n",
       "      <th>obese?</th>\n",
       "    </tr>\n",
       "  </thead>\n",
       "  <tbody>\n",
       "    <tr>\n",
       "      <th>0</th>\n",
       "      <td>90.40</td>\n",
       "      <td>Not Obese</td>\n",
       "    </tr>\n",
       "    <tr>\n",
       "      <th>1</th>\n",
       "      <td>81.30</td>\n",
       "      <td>Not Obese</td>\n",
       "    </tr>\n",
       "    <tr>\n",
       "      <th>2</th>\n",
       "      <td>98.71</td>\n",
       "      <td>Not Obese</td>\n",
       "    </tr>\n",
       "    <tr>\n",
       "      <th>3</th>\n",
       "      <td>139.03</td>\n",
       "      <td>Obese</td>\n",
       "    </tr>\n",
       "    <tr>\n",
       "      <th>4</th>\n",
       "      <td>99.10</td>\n",
       "      <td>Not Obese</td>\n",
       "    </tr>\n",
       "    <tr>\n",
       "      <th>...</th>\n",
       "      <td>...</td>\n",
       "      <td>...</td>\n",
       "    </tr>\n",
       "    <tr>\n",
       "      <th>995</th>\n",
       "      <td>95.52</td>\n",
       "      <td>Not Obese</td>\n",
       "    </tr>\n",
       "    <tr>\n",
       "      <th>996</th>\n",
       "      <td>66.88</td>\n",
       "      <td>Not Obese</td>\n",
       "    </tr>\n",
       "    <tr>\n",
       "      <th>997</th>\n",
       "      <td>63.31</td>\n",
       "      <td>Not Obese</td>\n",
       "    </tr>\n",
       "    <tr>\n",
       "      <th>998</th>\n",
       "      <td>66.29</td>\n",
       "      <td>Not Obese</td>\n",
       "    </tr>\n",
       "    <tr>\n",
       "      <th>999</th>\n",
       "      <td>94.80</td>\n",
       "      <td>Not Obese</td>\n",
       "    </tr>\n",
       "  </tbody>\n",
       "</table>\n",
       "<p>1000 rows × 2 columns</p>\n",
       "</div>"
      ],
      "text/plain": [
       "     weight     obese?\n",
       "0     90.40  Not Obese\n",
       "1     81.30  Not Obese\n",
       "2     98.71  Not Obese\n",
       "3    139.03      Obese\n",
       "4     99.10  Not Obese\n",
       "..      ...        ...\n",
       "995   95.52  Not Obese\n",
       "996   66.88  Not Obese\n",
       "997   63.31  Not Obese\n",
       "998   66.29  Not Obese\n",
       "999   94.80  Not Obese\n",
       "\n",
       "[1000 rows x 2 columns]"
      ]
     },
     "execution_count": 5,
     "metadata": {},
     "output_type": "execute_result"
    }
   ],
   "source": [
    "df"
   ]
  },
  {
   "cell_type": "code",
   "execution_count": 6,
   "id": "8f864778-7918-4ffa-a9b8-7a9b744a3cf0",
   "metadata": {},
   "outputs": [],
   "source": [
    "df['obese?'] = df['obese?'].astype('category')"
   ]
  },
  {
   "cell_type": "code",
   "execution_count": 7,
   "id": "b5c43c33-3c5b-46cc-8bd0-d1f1fa81989d",
   "metadata": {},
   "outputs": [
    {
     "data": {
      "text/plain": [
       "CategoricalDtype(categories=['Not Obese', 'Obese'], ordered=False)"
      ]
     },
     "execution_count": 7,
     "metadata": {},
     "output_type": "execute_result"
    }
   ],
   "source": [
    "df['obese?'].dtype"
   ]
  },
  {
   "cell_type": "code",
   "execution_count": 8,
   "id": "52be83a7-92f9-4f2c-bc09-c58bc9be642b",
   "metadata": {},
   "outputs": [],
   "source": [
    "df['obesity measure'] = df['obese?'].cat.codes"
   ]
  },
  {
   "cell_type": "code",
   "execution_count": 9,
   "id": "f798139c-202f-4d8f-bf12-947da2b1f67f",
   "metadata": {},
   "outputs": [],
   "source": [
    "df = df.drop(columns='obese?')"
   ]
  },
  {
   "cell_type": "code",
   "execution_count": 10,
   "id": "1210a710-9a58-45ee-993f-068c05c49b64",
   "metadata": {},
   "outputs": [
    {
     "data": {
      "text/html": [
       "<div>\n",
       "<style scoped>\n",
       "    .dataframe tbody tr th:only-of-type {\n",
       "        vertical-align: middle;\n",
       "    }\n",
       "\n",
       "    .dataframe tbody tr th {\n",
       "        vertical-align: top;\n",
       "    }\n",
       "\n",
       "    .dataframe thead th {\n",
       "        text-align: right;\n",
       "    }\n",
       "</style>\n",
       "<table border=\"1\" class=\"dataframe\">\n",
       "  <thead>\n",
       "    <tr style=\"text-align: right;\">\n",
       "      <th></th>\n",
       "      <th>weight</th>\n",
       "      <th>obesity measure</th>\n",
       "    </tr>\n",
       "  </thead>\n",
       "  <tbody>\n",
       "    <tr>\n",
       "      <th>0</th>\n",
       "      <td>90.40</td>\n",
       "      <td>0</td>\n",
       "    </tr>\n",
       "    <tr>\n",
       "      <th>1</th>\n",
       "      <td>81.30</td>\n",
       "      <td>0</td>\n",
       "    </tr>\n",
       "    <tr>\n",
       "      <th>2</th>\n",
       "      <td>98.71</td>\n",
       "      <td>0</td>\n",
       "    </tr>\n",
       "    <tr>\n",
       "      <th>3</th>\n",
       "      <td>139.03</td>\n",
       "      <td>1</td>\n",
       "    </tr>\n",
       "    <tr>\n",
       "      <th>4</th>\n",
       "      <td>99.10</td>\n",
       "      <td>0</td>\n",
       "    </tr>\n",
       "  </tbody>\n",
       "</table>\n",
       "</div>"
      ],
      "text/plain": [
       "   weight  obesity measure\n",
       "0   90.40                0\n",
       "1   81.30                0\n",
       "2   98.71                0\n",
       "3  139.03                1\n",
       "4   99.10                0"
      ]
     },
     "execution_count": 10,
     "metadata": {},
     "output_type": "execute_result"
    }
   ],
   "source": [
    "df.head()"
   ]
  },
  {
   "cell_type": "code",
   "execution_count": 11,
   "id": "f756b68a-cad6-48d5-9a07-89ad27f5c71c",
   "metadata": {},
   "outputs": [],
   "source": [
    "df['weight'] = (df['weight'] - df['weight'].min())/(df['weight'].max()-df['weight'].min())"
   ]
  },
  {
   "cell_type": "code",
   "execution_count": 12,
   "id": "bf1a0460-287e-415f-a4bc-e723f6f422fb",
   "metadata": {},
   "outputs": [
    {
     "data": {
      "text/plain": [
       "weight  obesity measure\n",
       "False   False              466\n",
       "        True                 4\n",
       "dtype: int64"
      ]
     },
     "execution_count": 12,
     "metadata": {},
     "output_type": "execute_result"
    }
   ],
   "source": [
    "(df[df['weight']>0.54] == 0).value_counts()"
   ]
  },
  {
   "cell_type": "code",
   "execution_count": 13,
   "id": "e471b8f0-47ac-40e4-b888-b2878a1a46cc",
   "metadata": {},
   "outputs": [
    {
     "data": {
      "text/plain": [
       "<matplotlib.collections.PathCollection at 0x11c2a7610>"
      ]
     },
     "execution_count": 13,
     "metadata": {},
     "output_type": "execute_result"
    },
    {
     "data": {
      "image/png": "[encoded data removed]",
      "text/plain": [
       "<Figure size 432x288 with 1 Axes>"
      ]
     },
     "metadata": {
      "needs_background": "light"
     },
     "output_type": "display_data"
    }
   ],
   "source": [
    "plt.scatter(df['weight'].iloc[0:20], df['obesity measure'].iloc[0:20])"
   ]
  },
  {
   "cell_type": "code",
   "execution_count": 14,
   "id": "30c56db8-57f4-4ceb-80b4-c61419dc53aa",
   "metadata": {},
   "outputs": [
    {
     "data": {
      "text/plain": [
       "<matplotlib.collections.PathCollection at 0x11c4bc5e0>"
      ]
     },
     "execution_count": 14,
     "metadata": {},
     "output_type": "execute_result"
    },
    {
     "data": {
      "image/png": "[encoded data removed]",
      "text/plain": [
       "<Figure size 432x288 with 1 Axes>"
      ]
     },
     "metadata": {
      "needs_background": "light"
     },
     "output_type": "display_data"
    }
   ],
   "source": [
    "plt.scatter(df['weight'], df['obesity measure'])"
   ]
  },
  {
   "cell_type": "code",
   "execution_count": 15,
   "id": "aa0bd1ef-128b-4ea5-b89d-2860ef527a77",
   "metadata": {},
   "outputs": [
    {
     "data": {
      "text/html": [
       "<div>\n",
       "<style scoped>\n",
       "    .dataframe tbody tr th:only-of-type {\n",
       "        vertical-align: middle;\n",
       "    }\n",
       "\n",
       "    .dataframe tbody tr th {\n",
       "        vertical-align: top;\n",
       "    }\n",
       "\n",
       "    .dataframe thead th {\n",
       "        text-align: right;\n",
       "    }\n",
       "</style>\n",
       "<table border=\"1\" class=\"dataframe\">\n",
       "  <thead>\n",
       "    <tr style=\"text-align: right;\">\n",
       "      <th></th>\n",
       "      <th>weight</th>\n",
       "      <th>obesity measure</th>\n",
       "    </tr>\n",
       "  </thead>\n",
       "  <tbody>\n",
       "    <tr>\n",
       "      <th>0</th>\n",
       "      <td>0.457237</td>\n",
       "      <td>0</td>\n",
       "    </tr>\n",
       "    <tr>\n",
       "      <th>1</th>\n",
       "      <td>0.374351</td>\n",
       "      <td>0</td>\n",
       "    </tr>\n",
       "    <tr>\n",
       "      <th>2</th>\n",
       "      <td>0.532926</td>\n",
       "      <td>0</td>\n",
       "    </tr>\n",
       "    <tr>\n",
       "      <th>3</th>\n",
       "      <td>0.900173</td>\n",
       "      <td>1</td>\n",
       "    </tr>\n",
       "    <tr>\n",
       "      <th>4</th>\n",
       "      <td>0.536479</td>\n",
       "      <td>0</td>\n",
       "    </tr>\n",
       "  </tbody>\n",
       "</table>\n",
       "</div>"
      ],
      "text/plain": [
       "     weight  obesity measure\n",
       "0  0.457237                0\n",
       "1  0.374351                0\n",
       "2  0.532926                0\n",
       "3  0.900173                1\n",
       "4  0.536479                0"
      ]
     },
     "execution_count": 15,
     "metadata": {},
     "output_type": "execute_result"
    }
   ],
   "source": [
    "df.head()"
   ]
  },
  {
   "cell_type": "code",
   "execution_count": 16,
   "id": "a0d73fca-76a1-41a1-9dda-a34caf091f68",
   "metadata": {},
   "outputs": [],
   "source": [
    "split_percentage = 0.75\n",
    "msk = np.random.rand(len(df)) < 0.75\n",
    "train = df[msk]\n",
    "test = df[~msk]"
   ]
  },
  {
   "cell_type": "code",
   "execution_count": 17,
   "id": "38691ba6-837b-43ef-9b2d-e58722fa2bc1",
   "metadata": {},
   "outputs": [],
   "source": [
    "x = train.iloc[0:,0:-1].values\n",
    "y = train.iloc[0:,-1:].values\n",
    "\n",
    "x_test = test.iloc[0:,0:-1].values\n",
    "y_test = test.iloc[0:,-1:].values"
   ]
  },
  {
   "cell_type": "code",
   "execution_count": 18,
   "id": "da16a82b-2c49-427c-8796-aa534345b55c",
   "metadata": {},
   "outputs": [
    {
     "data": {
      "text/plain": [
       "(750, 1)"
      ]
     },
     "execution_count": 18,
     "metadata": {},
     "output_type": "execute_result"
    }
   ],
   "source": [
    "y.shape"
   ]
  },
  {
   "cell_type": "code",
   "execution_count": 19,
   "id": "dadbcc85-9d4f-46b8-8a7c-466ab17925f3",
   "metadata": {},
   "outputs": [],
   "source": [
    "def sigmoid_function(x):\n",
    "    sgmd = (1/(1+np.exp(-x)))\n",
    "    \n",
    "    return sgmd"
   ]
  },
  {
   "cell_type": "code",
   "execution_count": 41,
   "id": "93ddbf72-8912-40a3-b918-57d07bf213ee",
   "metadata": {},
   "outputs": [],
   "source": [
    "def gradient_descent(x, y, w, b, learning_rate = 0.01, epoch = 5000):\n",
    "    cost = []\n",
    "    \n",
    "    n = len(y)\n",
    "    for i in range(epoch):\n",
    "        \n",
    "        z = x.dot(w) + b\n",
    "        y_hat = sigmoid_function(z)\n",
    "        r = y - y_hat\n",
    "        \n",
    "        cost.append((np.sum(y*np.log(y_hat) + (1-y)*np.log(1-y_hat)))/(-n))\n",
    "        \n",
    "        \n",
    "        w = w - (-1/n)*(x.T.dot(r))*learning_rate\n",
    "        b = b - (-1/n)*(np.sum(r))*learning_rate\n",
    "        \n",
    "    return w, b, cost\n",
    "        \n",
    "        "
   ]
  },
  {
   "cell_type": "code",
   "execution_count": 42,
   "id": "7cff801b-b5dd-41c1-8bfe-786ce2be253e",
   "metadata": {},
   "outputs": [],
   "source": [
    "w = np.random.rand(x.shape[-1], 1)\n",
    "b = np.random.rand()"
   ]
  },
  {
   "cell_type": "code",
   "execution_count": 43,
   "id": "402e2f43-c8c2-4907-bd29-ab19f0698c62",
   "metadata": {},
   "outputs": [],
   "source": [
    "w,b,cost = gradient_descent(x,y,w,b,0.01,40000)"
   ]
  },
  {
   "cell_type": "code",
   "execution_count": 44,
   "id": "71ffe2b5-0653-4a13-865d-82960184d53c",
   "metadata": {},
   "outputs": [
    {
     "data": {
      "text/plain": [
       "[<matplotlib.lines.Line2D at 0x11c81ecd0>]"
      ]
     },
     "execution_count": 44,
     "metadata": {},
     "output_type": "execute_result"
    },
    {
     "data": {
      "image/png": "[encoded data removed]",
      "text/plain": [
       "<Figure size 432x288 with 1 Axes>"
      ]
     },
     "metadata": {
      "needs_background": "light"
     },
     "output_type": "display_data"
    }
   ],
   "source": [
    "plt.plot(cost)"
   ]
  },
  {
   "cell_type": "code",
   "execution_count": 45,
   "id": "ad447a67-e988-4065-aee4-9596c1c06dba",
   "metadata": {},
   "outputs": [],
   "source": [
    "y_ = x.dot(w) + b"
   ]
  },
  {
   "cell_type": "code",
   "execution_count": 46,
   "id": "a2186e3e-00a3-458a-9f0d-5f1d2298e9bb",
   "metadata": {},
   "outputs": [
    {
     "data": {
      "text/plain": [
       "array([[-0.85649599],\n",
       "       [ 3.77730036],\n",
       "       [-0.02750096],\n",
       "       [ 3.52955472],\n",
       "       [-4.36876688],\n",
       "       [-0.23903762],\n",
       "       [ 2.68150233],\n",
       "       [-1.52255061],\n",
       "       [-0.72023588],\n",
       "       [-2.5602237 ]])"
      ]
     },
     "execution_count": 46,
     "metadata": {},
     "output_type": "execute_result"
    }
   ],
   "source": [
    "y_[0:10]"
   ]
  },
  {
   "cell_type": "code",
   "execution_count": 47,
   "id": "98876728-e28c-4e8f-b03a-bd519e7c479a",
   "metadata": {},
   "outputs": [],
   "source": [
    "y_hat = x.dot(w) + b"
   ]
  },
  {
   "cell_type": "code",
   "execution_count": 48,
   "id": "39676f8f-b820-4baf-8c35-cce7659b1f52",
   "metadata": {},
   "outputs": [],
   "source": [
    "y_hat = sigmoid_function(y_hat)\n",
    "y_hat = y_hat > 0.5\n",
    "y_hat = np.array(y_hat, dtype = int)"
   ]
  },
  {
   "cell_type": "code",
   "execution_count": 49,
   "id": "5a807ff1-adc9-42af-aa5a-1dbfeee6ffc5",
   "metadata": {},
   "outputs": [],
   "source": [
    "def accuracy(x,y,w,b):\n",
    "    z = x.dot(w) + b\n",
    "    y_hat = sigmoid_function(z)\n",
    "    \n",
    "    y_hat = y_hat > 0.5\n",
    "    \n",
    "    y_hat = np.array(y_hat, dtype = int)\n",
    "    \n",
    "    accuracy = (1 - np.sum(np.abs(y-y_hat))/len(y))*100\n",
    "    \n",
    "    return accuracy"
   ]
  },
  {
   "cell_type": "code",
   "execution_count": 50,
   "id": "d01646e9-dd5b-448c-9e7c-8d859dcf69c7",
   "metadata": {},
   "outputs": [
    {
     "data": {
      "text/plain": [
       "array([[0],\n",
       "       [1],\n",
       "       [0],\n",
       "       [1],\n",
       "       [0]])"
      ]
     },
     "execution_count": 50,
     "metadata": {},
     "output_type": "execute_result"
    }
   ],
   "source": [
    "y_hat[0:5]"
   ]
  },
  {
   "cell_type": "code",
   "execution_count": 51,
   "id": "1304e0be-2aee-4128-a492-7d2eeb45d1f5",
   "metadata": {},
   "outputs": [
    {
     "data": {
      "text/plain": [
       "array([[0],\n",
       "       [1],\n",
       "       [0],\n",
       "       [1],\n",
       "       [0]], dtype=int8)"
      ]
     },
     "execution_count": 51,
     "metadata": {},
     "output_type": "execute_result"
    }
   ],
   "source": [
    "y[0:5]"
   ]
  },
  {
   "cell_type": "code",
   "execution_count": 52,
   "id": "4d9e2c9a-89f9-40fe-b246-1388ed2af364",
   "metadata": {},
   "outputs": [
    {
     "data": {
      "text/plain": [
       "array([[0.45723654],\n",
       "       [0.90017306],\n",
       "       [0.53647873],\n",
       "       [0.87649148],\n",
       "       [0.12150469]])"
      ]
     },
     "execution_count": 52,
     "metadata": {},
     "output_type": "execute_result"
    }
   ],
   "source": [
    "x[0:5]"
   ]
  },
  {
   "cell_type": "code",
   "execution_count": 53,
   "id": "c5f2c1fb-e235-4f4e-af6f-ae5a4c5633a8",
   "metadata": {},
   "outputs": [
    {
     "data": {
      "text/plain": [
       "array([[0.29807195],\n",
       "       [0.97762759],\n",
       "       [0.49312519],\n",
       "       [0.97151709],\n",
       "       [0.01250841]])"
      ]
     },
     "execution_count": 53,
     "metadata": {},
     "output_type": "execute_result"
    }
   ],
   "source": [
    "sigmoid_function(x[0:5].dot(w) + b)"
   ]
  },
  {
   "cell_type": "code",
   "execution_count": 54,
   "id": "f87fe5e6-1045-4b27-b907-ceaf72ec51e5",
   "metadata": {},
   "outputs": [
    {
     "data": {
      "text/plain": [
       "99.6"
      ]
     },
     "execution_count": 54,
     "metadata": {},
     "output_type": "execute_result"
    }
   ],
   "source": [
    "accuracy(x,y,w,b)"
   ]
  },
  {
   "cell_type": "code",
   "execution_count": 55,
   "id": "6dbf917e-8f83-48ef-94d0-183b237cdac9",
   "metadata": {},
   "outputs": [
    {
     "data": {
      "text/plain": [
       "(array([[10.46153611]]), -5.639892586807894)"
      ]
     },
     "execution_count": 55,
     "metadata": {},
     "output_type": "execute_result"
    }
   ],
   "source": [
    "w,b"
   ]
  },
  {
   "cell_type": "code",
   "execution_count": 59,
   "id": "6ac52cef-b66e-481d-b834-91bd69053946",
   "metadata": {},
   "outputs": [
    {
     "data": {
      "text/plain": [
       "<matplotlib.collections.PathCollection at 0x11c91f850>"
      ]
     },
     "execution_count": 59,
     "metadata": {},
     "output_type": "execute_result"
    },
    {
     "data": {
      "image/png": "[encoded data removed]",
      "text/plain": [
       "<Figure size 432x288 with 1 Axes>"
      ]
     },
     "metadata": {
      "needs_background": "light"
     },
     "output_type": "display_data"
    }
   ],
   "source": [
    "plt.scatter(df['weight'], df['obesity measure'])\n",
    "plt.scatter(y_, sigmoid_function(y_)) ## our predicted sigmoid plot\n",
    "# a = np.arange(-5,5,0.1)\n",
    "# plt.plot(a, sigmoid_function(a)) ##dummy sigmoid plod to check accuracy"
   ]
  },
  {
   "cell_type": "code",
   "execution_count": null,
   "id": "aa67e731-cd25-43c6-a255-e635a3665397",
   "metadata": {},
   "outputs": [],
   "source": [
    "sigmoid_function(0.54545454)"
   ]
  },
  {
   "cell_type": "code",
   "execution_count": null,
   "id": "fd155d7b-3654-46e1-95a9-3d0e0eaf49ec",
   "metadata": {},
   "outputs": [],
   "source": [
    "a = np.arange(-20,20,0.5)\n",
    "plt.plot(a, sigmoid_function(a))"
   ]
  },
  {
   "cell_type": "code",
   "execution_count": null,
   "id": "e2fd2b7b-c9f4-40e1-a66d-92c1a15310d9",
   "metadata": {},
   "outputs": [],
   "source": []
  }
 ],
 "metadata": {
  "kernelspec": {
   "display_name": "Python 3 (ipykernel)",
   "language": "python",
   "name": "python3"
  },
  "language_info": {
   "codemirror_mode": {
    "name": "ipython",
    "version": 3
   },
   "file_extension": ".py",
   "mimetype": "text/x-python",
   "name": "python",
   "nbconvert_exporter": "python",
   "pygments_lexer": "ipython3",
   "version": "3.9.12"
  }
 },
 "nbformat": 4,
 "nbformat_minor": 5
}
