{
 "cells": [
  {
   "cell_type": "code",
   "execution_count": 1,
   "id": "fc5df572-7291-4ab5-abf5-b8bb6beaa38e",
   "metadata": {},
   "outputs": [],
   "source": [
    "import numpy as np\n",
    "import pandas as pd\n",
    "import matplotlib.pyplot as plt"
   ]
  },
  {
   "cell_type": "code",
   "execution_count": 40,
   "id": "c856cd98-ec6b-45e6-9663-c17f5c393cd2",
   "metadata": {},
   "outputs": [],
   "source": [
    "df = pd.read_csv('/Users/aasthaprajapati/Desktop/MOCK_DATA (1) copy 2.csv')"
   ]
  },
  {
   "cell_type": "code",
   "execution_count": 41,
   "id": "f3e847a6-9c01-4726-ba2e-a21a6a2f5300",
   "metadata": {},
   "outputs": [
    {
     "data": {
      "text/html": [
       "<div>\n",
       "<style scoped>\n",
       "    .dataframe tbody tr th:only-of-type {\n",
       "        vertical-align: middle;\n",
       "    }\n",
       "\n",
       "    .dataframe tbody tr th {\n",
       "        vertical-align: top;\n",
       "    }\n",
       "\n",
       "    .dataframe thead th {\n",
       "        text-align: right;\n",
       "    }\n",
       "</style>\n",
       "<table border=\"1\" class=\"dataframe\">\n",
       "  <thead>\n",
       "    <tr style=\"text-align: right;\">\n",
       "      <th></th>\n",
       "      <th>wbcs</th>\n",
       "      <th>platelets</th>\n",
       "      <th>dengue</th>\n",
       "    </tr>\n",
       "  </thead>\n",
       "  <tbody>\n",
       "    <tr>\n",
       "      <th>0</th>\n",
       "      <td>11554</td>\n",
       "      <td>474502</td>\n",
       "      <td>dengue</td>\n",
       "    </tr>\n",
       "    <tr>\n",
       "      <th>1</th>\n",
       "      <td>16036</td>\n",
       "      <td>577594</td>\n",
       "      <td>dengue</td>\n",
       "    </tr>\n",
       "    <tr>\n",
       "      <th>2</th>\n",
       "      <td>7117</td>\n",
       "      <td>183313</td>\n",
       "      <td>safe</td>\n",
       "    </tr>\n",
       "    <tr>\n",
       "      <th>3</th>\n",
       "      <td>9180</td>\n",
       "      <td>242012</td>\n",
       "      <td>safe</td>\n",
       "    </tr>\n",
       "    <tr>\n",
       "      <th>4</th>\n",
       "      <td>14126</td>\n",
       "      <td>152199</td>\n",
       "      <td>safe</td>\n",
       "    </tr>\n",
       "    <tr>\n",
       "      <th>...</th>\n",
       "      <td>...</td>\n",
       "      <td>...</td>\n",
       "      <td>...</td>\n",
       "    </tr>\n",
       "    <tr>\n",
       "      <th>995</th>\n",
       "      <td>10025</td>\n",
       "      <td>526906</td>\n",
       "      <td>dengue</td>\n",
       "    </tr>\n",
       "    <tr>\n",
       "      <th>996</th>\n",
       "      <td>7000</td>\n",
       "      <td>570246</td>\n",
       "      <td>safe</td>\n",
       "    </tr>\n",
       "    <tr>\n",
       "      <th>997</th>\n",
       "      <td>13098</td>\n",
       "      <td>164830</td>\n",
       "      <td>safe</td>\n",
       "    </tr>\n",
       "    <tr>\n",
       "      <th>998</th>\n",
       "      <td>19622</td>\n",
       "      <td>566712</td>\n",
       "      <td>dengue</td>\n",
       "    </tr>\n",
       "    <tr>\n",
       "      <th>999</th>\n",
       "      <td>19194</td>\n",
       "      <td>569585</td>\n",
       "      <td>dengue</td>\n",
       "    </tr>\n",
       "  </tbody>\n",
       "</table>\n",
       "<p>1000 rows × 3 columns</p>\n",
       "</div>"
      ],
      "text/plain": [
       "      wbcs  platelets  dengue\n",
       "0    11554     474502  dengue\n",
       "1    16036     577594  dengue\n",
       "2     7117     183313    safe\n",
       "3     9180     242012    safe\n",
       "4    14126     152199    safe\n",
       "..     ...        ...     ...\n",
       "995  10025     526906  dengue\n",
       "996   7000     570246    safe\n",
       "997  13098     164830    safe\n",
       "998  19622     566712  dengue\n",
       "999  19194     569585  dengue\n",
       "\n",
       "[1000 rows x 3 columns]"
      ]
     },
     "execution_count": 41,
     "metadata": {},
     "output_type": "execute_result"
    }
   ],
   "source": [
    "df"
   ]
  },
  {
   "cell_type": "code",
   "execution_count": 42,
   "id": "71490224-e4d6-4363-987a-ceae89e2fc82",
   "metadata": {},
   "outputs": [],
   "source": [
    "df['wbcs'] = (df['wbcs'] - df['wbcs'].min())/(df['wbcs'].max()-df['wbcs'].min())\n",
    "df['platelets'] = (df['platelets'] - df['platelets'].min())/(df['platelets'].max()-df['platelets'].min())"
   ]
  },
  {
   "cell_type": "code",
   "execution_count": 43,
   "id": "b6688ecd-7676-4e57-8c85-014ee70bf8d0",
   "metadata": {},
   "outputs": [],
   "source": [
    "df['dengue'] = df['dengue'].astype('category')\n",
    "df['dengue'] = df['dengue'].cat.codes"
   ]
  },
  {
   "cell_type": "code",
   "execution_count": 44,
   "id": "be64e767-f53b-46d3-8fab-9e9d732fb0f7",
   "metadata": {},
   "outputs": [
    {
     "data": {
      "text/html": [
       "<div>\n",
       "<style scoped>\n",
       "    .dataframe tbody tr th:only-of-type {\n",
       "        vertical-align: middle;\n",
       "    }\n",
       "\n",
       "    .dataframe tbody tr th {\n",
       "        vertical-align: top;\n",
       "    }\n",
       "\n",
       "    .dataframe thead th {\n",
       "        text-align: right;\n",
       "    }\n",
       "</style>\n",
       "<table border=\"1\" class=\"dataframe\">\n",
       "  <thead>\n",
       "    <tr style=\"text-align: right;\">\n",
       "      <th></th>\n",
       "      <th>wbcs</th>\n",
       "      <th>platelets</th>\n",
       "      <th>dengue</th>\n",
       "    </tr>\n",
       "  </thead>\n",
       "  <tbody>\n",
       "    <tr>\n",
       "      <th>0</th>\n",
       "      <td>0.456973</td>\n",
       "      <td>0.721769</td>\n",
       "      <td>0</td>\n",
       "    </tr>\n",
       "    <tr>\n",
       "      <th>1</th>\n",
       "      <td>0.747408</td>\n",
       "      <td>0.951119</td>\n",
       "      <td>0</td>\n",
       "    </tr>\n",
       "    <tr>\n",
       "      <th>2</th>\n",
       "      <td>0.169453</td>\n",
       "      <td>0.073958</td>\n",
       "      <td>1</td>\n",
       "    </tr>\n",
       "    <tr>\n",
       "      <th>3</th>\n",
       "      <td>0.303136</td>\n",
       "      <td>0.204546</td>\n",
       "      <td>1</td>\n",
       "    </tr>\n",
       "    <tr>\n",
       "      <th>4</th>\n",
       "      <td>0.623639</td>\n",
       "      <td>0.004739</td>\n",
       "      <td>1</td>\n",
       "    </tr>\n",
       "    <tr>\n",
       "      <th>...</th>\n",
       "      <td>...</td>\n",
       "      <td>...</td>\n",
       "      <td>...</td>\n",
       "    </tr>\n",
       "    <tr>\n",
       "      <th>995</th>\n",
       "      <td>0.357893</td>\n",
       "      <td>0.838353</td>\n",
       "      <td>0</td>\n",
       "    </tr>\n",
       "    <tr>\n",
       "      <th>996</th>\n",
       "      <td>0.161871</td>\n",
       "      <td>0.934772</td>\n",
       "      <td>1</td>\n",
       "    </tr>\n",
       "    <tr>\n",
       "      <th>997</th>\n",
       "      <td>0.557024</td>\n",
       "      <td>0.032839</td>\n",
       "      <td>1</td>\n",
       "    </tr>\n",
       "    <tr>\n",
       "      <th>998</th>\n",
       "      <td>0.979782</td>\n",
       "      <td>0.926909</td>\n",
       "      <td>0</td>\n",
       "    </tr>\n",
       "    <tr>\n",
       "      <th>999</th>\n",
       "      <td>0.952048</td>\n",
       "      <td>0.933301</td>\n",
       "      <td>0</td>\n",
       "    </tr>\n",
       "  </tbody>\n",
       "</table>\n",
       "<p>1000 rows × 3 columns</p>\n",
       "</div>"
      ],
      "text/plain": [
       "         wbcs  platelets  dengue\n",
       "0    0.456973   0.721769       0\n",
       "1    0.747408   0.951119       0\n",
       "2    0.169453   0.073958       1\n",
       "3    0.303136   0.204546       1\n",
       "4    0.623639   0.004739       1\n",
       "..        ...        ...     ...\n",
       "995  0.357893   0.838353       0\n",
       "996  0.161871   0.934772       1\n",
       "997  0.557024   0.032839       1\n",
       "998  0.979782   0.926909       0\n",
       "999  0.952048   0.933301       0\n",
       "\n",
       "[1000 rows x 3 columns]"
      ]
     },
     "execution_count": 44,
     "metadata": {},
     "output_type": "execute_result"
    }
   ],
   "source": [
    "df ## normalised threshold 10000 wbc is 0.3548 and for 400000 platelets is 0.55 so 0.91 is total"
   ]
  },
  {
   "cell_type": "code",
   "execution_count": 45,
   "id": "e1b2b898-cb97-4952-b2d6-7db41ea93c36",
   "metadata": {},
   "outputs": [],
   "source": [
    "split_percentage = 0.75\n",
    "msk = np.random.rand(len(df)) < split_percentage\n",
    "train = df[msk]\n",
    "test = df[~msk]"
   ]
  },
  {
   "cell_type": "code",
   "execution_count": 46,
   "id": "6b3662fa-d911-465c-ab7e-2de57d2cb333",
   "metadata": {},
   "outputs": [],
   "source": [
    "x = train.iloc[0:,0:-1].values\n",
    "y = train.iloc[0:,-1:].values\n",
    "x_test = test.iloc[0:,0:-1].values\n",
    "y_test = test.iloc[0:,-1:].values"
   ]
  },
  {
   "cell_type": "code",
   "execution_count": 47,
   "id": "40fabd3a-a723-4601-8aa2-fcaec8d308b1",
   "metadata": {},
   "outputs": [
    {
     "data": {
      "text/plain": [
       "array([[0.45697252, 0.721769  ],\n",
       "       [0.74740798, 0.95111869],\n",
       "       [0.16945308, 0.07395822],\n",
       "       ...,\n",
       "       [0.16187144, 0.93477153],\n",
       "       [0.97978227, 0.92690941],\n",
       "       [0.95204769, 0.933301  ]])"
      ]
     },
     "execution_count": 47,
     "metadata": {},
     "output_type": "execute_result"
    }
   ],
   "source": [
    "x"
   ]
  },
  {
   "cell_type": "code",
   "execution_count": 48,
   "id": "2d7b1ef2-420f-4217-ad51-f2052be63d44",
   "metadata": {},
   "outputs": [
    {
     "data": {
      "text/plain": [
       "<matplotlib.collections.PathCollection at 0x14132ccd0>"
      ]
     },
     "execution_count": 48,
     "metadata": {},
     "output_type": "execute_result"
    },
    {
     "data": {
      "image/png": "[encoded data removed]",
      "text/plain": [
       "<Figure size 432x288 with 1 Axes>"
      ]
     },
     "metadata": {
      "needs_background": "light"
     },
     "output_type": "display_data"
    }
   ],
   "source": [
    "plt.scatter(df['wbcs'], df['dengue'])\n",
    "plt.scatter(df['platelets'], df['dengue'], color=\"orange\")"
   ]
  },
  {
   "cell_type": "code",
   "execution_count": null,
   "id": "5532397d-da80-4516-b53e-d4ff5841df1b",
   "metadata": {},
   "outputs": [],
   "source": []
  }
 ],
 "metadata": {
  "kernelspec": {
   "display_name": "Python 3 (ipykernel)",
   "language": "python",
   "name": "python3"
  },
  "language_info": {
   "codemirror_mode": {
    "name": "ipython",
    "version": 3
   },
   "file_extension": ".py",
   "mimetype": "text/x-python",
   "name": "python",
   "nbconvert_exporter": "python",
   "pygments_lexer": "ipython3",
   "version": "3.9.12"
  }
 },
 "nbformat": 4,
 "nbformat_minor": 5
}
