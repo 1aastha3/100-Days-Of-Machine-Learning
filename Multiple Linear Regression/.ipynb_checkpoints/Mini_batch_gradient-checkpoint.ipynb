{
 "cells": [
  {
   "cell_type": "code",
   "execution_count": 1,
   "id": "67584be0-02bf-48e5-8fa9-9754f401730e",
   "metadata": {},
   "outputs": [],
   "source": [
    "import numpy as np\n",
    "import pandas as pd\n",
    "import  matplotlib.pyplot as plt\n",
    "import seaborn as sns"
   ]
  },
  {
   "cell_type": "code",
   "execution_count": 2,
   "id": "5e86f3eb-947e-4818-9300-5add88f381d4",
   "metadata": {},
   "outputs": [],
   "source": [
    "df = pd.read_csv('/Users/aasthaprajapati/Desktop/Machine learning csv files/winequality-red.csv')"
   ]
  },
  {
   "cell_type": "code",
   "execution_count": 3,
   "id": "dda4fe6a-38d6-4416-98a3-e566db177f4d",
   "metadata": {},
   "outputs": [],
   "source": [
    "df = df[['citric acid', 'density','fixed acidity', ]]"
   ]
  },
  {
   "cell_type": "code",
   "execution_count": 4,
   "id": "498403d8-4478-4ff9-b308-0e5fcb2117f0",
   "metadata": {},
   "outputs": [],
   "source": [
    "normalised_df = (df - df.min())/(df.max()-df.min())"
   ]
  },
  {
   "cell_type": "code",
   "execution_count": 5,
   "id": "3d6ceae1-692b-4ce3-8233-facd8e088a55",
   "metadata": {},
   "outputs": [],
   "source": [
    "split_percentage = 0.75\n",
    "msk = np.random.rand(len(df)) <= split_percentage"
   ]
  },
  {
   "cell_type": "code",
   "execution_count": 6,
   "id": "5e242b5b-e784-4cde-95ee-2f4ae2645908",
   "metadata": {},
   "outputs": [],
   "source": [
    "train = normalised_df[msk]\n",
    "test = normalised_df[~msk]"
   ]
  },
  {
   "cell_type": "code",
   "execution_count": 7,
   "id": "165f8d18-e154-41d3-8300-b3556109795c",
   "metadata": {},
   "outputs": [],
   "source": [
    "x = train[['citric acid', 'density']].values"
   ]
  },
  {
   "cell_type": "code",
   "execution_count": 19,
   "id": "ee3f4315-027e-4cf6-9202-1f41daa03712",
   "metadata": {},
   "outputs": [
    {
     "data": {
      "text/plain": [
       "(1243, 2)"
      ]
     },
     "execution_count": 19,
     "metadata": {},
     "output_type": "execute_result"
    }
   ],
   "source": [
    "x.shape"
   ]
  },
  {
   "cell_type": "code",
   "execution_count": 8,
   "id": "16da781e-a458-4dbe-935a-cf2d716b0734",
   "metadata": {},
   "outputs": [],
   "source": [
    "y = train[['fixed acidity']].values"
   ]
  },
  {
   "cell_type": "code",
   "execution_count": 139,
   "id": "a637dc9a-3dd1-4b49-8bdb-358fb04acc3d",
   "metadata": {},
   "outputs": [],
   "source": [
    "def mini_batch_gradient_descent(x,y,w,b,learning_rate=0.01,iteration=1900 ):\n",
    "    cost = []\n",
    "    for i in range(iteration):\n",
    "        index = np.random.randint(0, x.shape[0], 50)\n",
    "        x_s = x[index]\n",
    "        y_s = y[index]\n",
    "       \n",
    "        y_ = x_s.dot(w) + bias\n",
    "        r = y_s - y_\n",
    "    \n",
    "        w_gradient = (-(1)*x_s.T.dot(r))/(len(y))\n",
    "        b_gradient = (-(1)*np.sum(r))/(len(y))\n",
    "    \n",
    "        w = w - learning_rate*w_gradient\n",
    "        b = b - learning_rate*b_gradient\n",
    "    \n",
    "        cost.append(np.sum((((y_s - y_) ** 2) / (2*len(y)))))\n",
    "    \n",
    "    return cost"
   ]
  },
  {
   "cell_type": "code",
   "execution_count": 140,
   "id": "f645590a-c0aa-4faa-b9a1-f3a6e70ba7bc",
   "metadata": {},
   "outputs": [],
   "source": [
    "w = np.random.rand(2,1)"
   ]
  },
  {
   "cell_type": "code",
   "execution_count": 141,
   "id": "82a050eb-06b6-405e-9df6-fedc56cf4db7",
   "metadata": {},
   "outputs": [
    {
     "data": {
      "text/plain": [
       "(2, 1)"
      ]
     },
     "execution_count": 141,
     "metadata": {},
     "output_type": "execute_result"
    }
   ],
   "source": [
    "w.shape"
   ]
  },
  {
   "cell_type": "code",
   "execution_count": 142,
   "id": "3549d20f-489c-4512-aa95-701c3c720a7e",
   "metadata": {},
   "outputs": [],
   "source": [
    "bias = np.random.rand()"
   ]
  },
  {
   "cell_type": "code",
   "execution_count": 143,
   "id": "281a0d40-9c1a-4d33-a80f-280576f0a23c",
   "metadata": {},
   "outputs": [
    {
     "data": {
      "text/plain": [
       "(2, 50)"
      ]
     },
     "execution_count": 143,
     "metadata": {},
     "output_type": "execute_result"
    }
   ],
   "source": [
    "index = np.random.randint(0, x.shape[0], 50)\n",
    "x_s = x[index]\n",
    "x_s.T.shape"
   ]
  },
  {
   "cell_type": "code",
   "execution_count": 144,
   "id": "b97ca3c9-397e-4c48-835c-e3c05166aeb1",
   "metadata": {},
   "outputs": [],
   "source": [
    "c = mini_batch_gradient_descent(x,y,w,bias,0.01,30000)"
   ]
  },
  {
   "cell_type": "code",
   "execution_count": 145,
   "id": "80c457e1-5db9-4256-9946-5aca1a182bd1",
   "metadata": {},
   "outputs": [
    {
     "data": {
      "text/plain": [
       "[<matplotlib.lines.Line2D at 0x162e497f0>]"
      ]
     },
     "execution_count": 145,
     "metadata": {},
     "output_type": "execute_result"
    },
    {
     "data": {
      "image/png": "[encoded data removed]",
      "text/plain": [
       "<Figure size 432x288 with 1 Axes>"
      ]
     },
     "metadata": {
      "needs_background": "light"
     },
     "output_type": "display_data"
    }
   ],
   "source": [
    "plt.plot(c)"
   ]
  },
  {
   "cell_type": "code",
   "execution_count": 146,
   "id": "20dfa6ff-9aad-48ad-8292-e1ce3c591249",
   "metadata": {},
   "outputs": [
    {
     "data": {
      "text/plain": [
       "(1243, 1)"
      ]
     },
     "execution_count": 146,
     "metadata": {},
     "output_type": "execute_result"
    }
   ],
   "source": [
    "y.shape"
   ]
  },
  {
   "cell_type": "code",
   "execution_count": 147,
   "id": "e35a16b9-c832-489f-ad4c-46375ba2e8fc",
   "metadata": {},
   "outputs": [],
   "source": [
    "y_pred = x.dot(w) +bias"
   ]
  },
  {
   "cell_type": "code",
   "execution_count": 148,
   "id": "fe87ddeb-d3fe-4719-a322-2a3c559b66ce",
   "metadata": {},
   "outputs": [
    {
     "data": {
      "text/plain": [
       "0.3521010709473387"
      ]
     },
     "execution_count": 148,
     "metadata": {},
     "output_type": "execute_result"
    }
   ],
   "source": [
    "np.abs(y-y_pred).mean()"
   ]
  },
  {
   "cell_type": "code",
   "execution_count": 149,
   "id": "4d32c951-2c33-491a-bf4c-866c50fa8aaf",
   "metadata": {},
   "outputs": [
    {
     "data": {
      "text/plain": [
       "[<matplotlib.lines.Line2D at 0x164ba2040>]"
      ]
     },
     "execution_count": 149,
     "metadata": {},
     "output_type": "execute_result"
    },
    {
     "data": {
      "image/png": "[encoded data removed]",
      "text/plain": [
       "<Figure size 432x288 with 1 Axes>"
      ]
     },
     "metadata": {
      "needs_background": "light"
     },
     "output_type": "display_data"
    }
   ],
   "source": [
    "plt.scatter(normalised_df['citric acid'], normalised_df['fixed acidity'], color = 'blue')\n",
    "plt.plot(x.T[0], x.T[0]*w[0] + bias, color='red')"
   ]
  }
 ],
 "metadata": {
  "kernelspec": {
   "display_name": "Python 3 (ipykernel)",
   "language": "python",
   "name": "python3"
  },
  "language_info": {
   "codemirror_mode": {
    "name": "ipython",
    "version": 3
   },
   "file_extension": ".py",
   "mimetype": "text/x-python",
   "name": "python",
   "nbconvert_exporter": "python",
   "pygments_lexer": "ipython3",
   "version": "3.9.12"
  }
 },
 "nbformat": 4,
 "nbformat_minor": 5
}
