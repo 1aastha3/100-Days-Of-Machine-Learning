{
 "cells": [
  {
   "cell_type": "code",
   "execution_count": 3,
   "id": "bbc7cf69-be2a-489e-a7b6-770d339a9a6f",
   "metadata": {},
   "outputs": [],
   "source": [
    "import numpy as np\n",
    "import pandas as pd\n",
    "import  matplotlib.pyplot as plt\n",
    "import seaborn as sns"
   ]
  },
  {
   "cell_type": "code",
   "execution_count": 4,
   "id": "ed309f32-3fce-487b-ad19-f43f32ebfaf3",
   "metadata": {},
   "outputs": [],
   "source": [
    "df = pd.read_csv('/Users/aasthaprajapati/Desktop/Machine learning csv files/winequality-red.csv')"
   ]
  },
  {
   "cell_type": "code",
   "execution_count": 5,
   "id": "57b41a1f-e569-4c15-a3ed-58fea45af515",
   "metadata": {},
   "outputs": [
    {
     "data": {
      "text/plain": [
       "Index(['fixed acidity', 'volatile acidity', 'citric acid', 'residual sugar',\n",
       "       'chlorides', 'free sulfur dioxide', 'total sulfur dioxide', 'density',\n",
       "       'pH', 'sulphates', 'alcohol', 'quality'],\n",
       "      dtype='object')"
      ]
     },
     "execution_count": 5,
     "metadata": {},
     "output_type": "execute_result"
    }
   ],
   "source": [
    "df.columns"
   ]
  },
  {
   "cell_type": "code",
   "execution_count": 6,
   "id": "cab19aa2-8cf5-4cc8-a80d-dda398db6f63",
   "metadata": {},
   "outputs": [],
   "source": [
    "df = df[['citric acid', 'density','fixed acidity', ]]"
   ]
  },
  {
   "cell_type": "code",
   "execution_count": 7,
   "id": "ed069834-3ecb-43b3-9175-85a9a666aa92",
   "metadata": {},
   "outputs": [],
   "source": [
    "normalised_df = (df - df.min())/(df.max()-df.min())"
   ]
  },
  {
   "cell_type": "code",
   "execution_count": 8,
   "id": "8791523a-4deb-48e6-b66b-db0f9f95be06",
   "metadata": {},
   "outputs": [],
   "source": [
    "split_percentage = 0.75\n",
    "msk = np.random.rand(len(df)) <= split_percentage"
   ]
  },
  {
   "cell_type": "code",
   "execution_count": 9,
   "id": "fc727fe2-34ba-434e-bec9-a7a3c357a332",
   "metadata": {},
   "outputs": [],
   "source": [
    "train = normalised_df[msk]\n",
    "test = normalised_df[~msk]"
   ]
  },
  {
   "cell_type": "code",
   "execution_count": 10,
   "id": "6d8aa50c-624d-4972-bdd2-16c5a558a9ab",
   "metadata": {},
   "outputs": [],
   "source": [
    "x = train[['citric acid', 'density']].values\n",
    "y = train[['fixed acidity']].values"
   ]
  },
  {
   "cell_type": "code",
   "execution_count": 11,
   "id": "d8594e7f-012f-44eb-a246-565b3a6f9b2e",
   "metadata": {},
   "outputs": [
    {
     "data": {
      "text/plain": [
       "array([[0.        , 0.56754772],\n",
       "       [0.        , 0.49412628],\n",
       "       [0.56      , 0.58223201],\n",
       "       ...,\n",
       "       [0.08      , 0.35462555],\n",
       "       [0.1       , 0.37077827],\n",
       "       [0.47      , 0.3979442 ]])"
      ]
     },
     "execution_count": 11,
     "metadata": {},
     "output_type": "execute_result"
    }
   ],
   "source": [
    "x"
   ]
  },
  {
   "cell_type": "code",
   "execution_count": 12,
   "id": "a160bc92-ddd0-4575-a932-d8b1e1dbd1e0",
   "metadata": {},
   "outputs": [
    {
     "data": {
      "text/plain": [
       "(1, 2)"
      ]
     },
     "execution_count": 12,
     "metadata": {},
     "output_type": "execute_result"
    }
   ],
   "source": [
    "x[[1]].shape"
   ]
  },
  {
   "cell_type": "code",
   "execution_count": 21,
   "id": "0a56b0ef-f2df-40ab-bc4e-994f9d0a9af8",
   "metadata": {},
   "outputs": [
    {
     "data": {
      "text/plain": [
       "(2,)"
      ]
     },
     "execution_count": 21,
     "metadata": {},
     "output_type": "execute_result"
    }
   ],
   "source": [
    "x[1].shape"
   ]
  },
  {
   "cell_type": "code",
   "execution_count": 13,
   "id": "38f12d26-2948-4863-88e8-4d4eb86deea7",
   "metadata": {},
   "outputs": [
    {
     "data": {
      "text/plain": [
       "array([[0.46      ],\n",
       "       [0.45594714]])"
      ]
     },
     "execution_count": 13,
     "metadata": {},
     "output_type": "execute_result"
    }
   ],
   "source": [
    "index = np.random.randint(0,x.shape[0]-1)\n",
    "x_s = x[[index]]\n",
    "x_s.T"
   ]
  },
  {
   "cell_type": "code",
   "execution_count": 22,
   "id": "fa4220fe-fcd2-4191-86b4-228876d66a67",
   "metadata": {},
   "outputs": [],
   "source": [
    "def stochastic_gradient_descent(x,y,w,b,learning_rate=0.001,iteration=1900 ):\n",
    "    cost = []\n",
    "    for i in range(iteration):\n",
    "        index = np.random.randint(0,x.shape[0]-1)\n",
    "        x_s = x[[index]]\n",
    "        y_s = y[[index]]\n",
    "       \n",
    "        y_ = x_s.dot(w) + bias\n",
    "        r = y_s - y_\n",
    "    \n",
    "        w_gradient = (-(1)*x_s.T.dot(r))/(len(y))\n",
    "        b_gradient = (-(1)*np.sum(r))/(len(y))\n",
    "    \n",
    "        w = w - learning_rate*w_gradient\n",
    "        b = b - learning_rate*b_gradient\n",
    "    \n",
    "        cost.append(np.sum((((y_s - y_) ** 2) / (2*len(y)))))\n",
    "    \n",
    "    return cost  "
   ]
  },
  {
   "cell_type": "code",
   "execution_count": 23,
   "id": "ab724025-c45f-419a-8654-87c47f179d23",
   "metadata": {},
   "outputs": [],
   "source": [
    "w = np.random.rand(2,1)"
   ]
  },
  {
   "cell_type": "code",
   "execution_count": 24,
   "id": "efd30fbc-cc84-417e-b33e-b404c8e1998b",
   "metadata": {},
   "outputs": [
    {
     "data": {
      "text/plain": [
       "array([[1.],\n",
       "       [1.]])"
      ]
     },
     "execution_count": 24,
     "metadata": {},
     "output_type": "execute_result"
    }
   ],
   "source": [
    "np.sign(w)"
   ]
  },
  {
   "cell_type": "code",
   "execution_count": 25,
   "id": "989b9a72-8268-4b81-a08c-c3e684a410fa",
   "metadata": {
    "tags": []
   },
   "outputs": [
    {
     "data": {
      "text/plain": [
       "array([[0.46      , 0.45594714]])"
      ]
     },
     "execution_count": 25,
     "metadata": {},
     "output_type": "execute_result"
    }
   ],
   "source": [
    "x_s"
   ]
  },
  {
   "cell_type": "code",
   "execution_count": 26,
   "id": "af01c826-be89-4dca-bbbc-696a71841f92",
   "metadata": {},
   "outputs": [],
   "source": [
    "bias = np.random.rand()"
   ]
  },
  {
   "cell_type": "code",
   "execution_count": 27,
   "id": "68644dfa-d7d7-4ff2-9b5d-bb59577b6187",
   "metadata": {},
   "outputs": [],
   "source": [
    "c = stochastic_gradient_descent(x,y,w,bias,0.01, 8000)"
   ]
  },
  {
   "cell_type": "code",
   "execution_count": null,
   "id": "9efd4b11-2425-4b17-ae6a-2cc868c9aef2",
   "metadata": {},
   "outputs": [],
   "source": [
    "plt.plot(c)"
   ]
  },
  {
   "cell_type": "code",
   "execution_count": null,
   "id": "48df0c81-6fcd-4f75-8287-13287929eed5",
   "metadata": {},
   "outputs": [],
   "source": [
    "c[0:10]"
   ]
  },
  {
   "cell_type": "code",
   "execution_count": null,
   "id": "414b8337-3c1c-4408-911c-8e3ec386d1c7",
   "metadata": {},
   "outputs": [],
   "source": [
    "y_pred = x.dot(w) + bias"
   ]
  },
  {
   "cell_type": "code",
   "execution_count": null,
   "id": "30436d27-30f7-445b-afab-15694c9eeed8",
   "metadata": {},
   "outputs": [],
   "source": [
    "np.abs(y-y_pred).mean()"
   ]
  },
  {
   "cell_type": "code",
   "execution_count": null,
   "id": "97ec0521-d1ad-41ee-8b3a-2bc354c37be9",
   "metadata": {},
   "outputs": [],
   "source": [
    "plt.scatter(normalised_df['citric acid'],normalised_df['fixed acidity'], color='orange')\n",
    "plt.plot(x.T[0], x.T[0]*w[0]+bias, color='blue')"
   ]
  }
 ],
 "metadata": {
  "kernelspec": {
   "display_name": "Python 3 (ipykernel)",
   "language": "python",
   "name": "python3"
  },
  "language_info": {
   "codemirror_mode": {
    "name": "ipython",
    "version": 3
   },
   "file_extension": ".py",
   "mimetype": "text/x-python",
   "name": "python",
   "nbconvert_exporter": "python",
   "pygments_lexer": "ipython3",
   "version": "3.9.12"
  }
 },
 "nbformat": 4,
 "nbformat_minor": 5
}
